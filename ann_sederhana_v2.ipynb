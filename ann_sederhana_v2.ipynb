{
  "nbformat": 4,
  "nbformat_minor": 0,
  "metadata": {
    "colab": {
      "name": "ann_sederhana_v2.ipynb",
      "provenance": [],
      "collapsed_sections": [],
      "include_colab_link": true
    },
    "kernelspec": {
      "name": "python3",
      "display_name": "Python 3"
    },
    "accelerator": "GPU"
  },
  "cells": [
    {
      "cell_type": "markdown",
      "metadata": {
        "id": "view-in-github",
        "colab_type": "text"
      },
      "source": [
        "<a href=\"https://colab.research.google.com/github/naufalperdana/ANN_Prediksi_Tutup_Rekening_Bank/blob/main/ann_sederhana_v2.ipynb\" target=\"_parent\"><img src=\"https://colab.research.google.com/assets/colab-badge.svg\" alt=\"Open In Colab\"/></a>"
      ]
    },
    {
      "cell_type": "markdown",
      "metadata": {
        "id": "lP6JLo1tGNBg"
      },
      "source": [
        "# Pendeteksian Tutup Rekening Nasabah Bank  (Churn)"
      ]
    },
    {
      "cell_type": "markdown",
      "metadata": {
        "id": "1E0Q3aoKUCRX"
      },
      "source": [
        "## Bagian 1 - Data Preprocessing"
      ]
    },
    {
      "cell_type": "markdown",
      "metadata": {
        "id": "gWZyYmS_UE_L"
      },
      "source": [
        "### Importing the libraries"
      ]
    },
    {
      "cell_type": "code",
      "metadata": {
        "id": "M6pGKClMAbkw"
      },
      "source": [
        "import numpy as np\n",
        "import tensorflow as tf\n",
        "import pandas as pd"
      ],
      "execution_count": 1,
      "outputs": []
    },
    {
      "cell_type": "markdown",
      "metadata": {
        "id": "eWJobTnOA2On"
      },
      "source": [
        "Mengetahui Versi of Tensorflow"
      ]
    },
    {
      "cell_type": "code",
      "metadata": {
        "id": "IE55IaueAwaP",
        "colab": {
          "base_uri": "https://localhost:8080/",
          "height": 35
        },
        "outputId": "c93fd527-68c0-4477-fc12-f6502bce974e"
      },
      "source": [
        "tf.__version__"
      ],
      "execution_count": 2,
      "outputs": [
        {
          "output_type": "execute_result",
          "data": {
            "application/vnd.google.colaboratory.intrinsic+json": {
              "type": "string"
            },
            "text/plain": [
              "'2.4.0'"
            ]
          },
          "metadata": {
            "tags": []
          },
          "execution_count": 2
        }
      ]
    },
    {
      "cell_type": "markdown",
      "metadata": {
        "id": "dnui9kbGCmp1"
      },
      "source": [
        "### Importing dataset\n"
      ]
    },
    {
      "cell_type": "code",
      "metadata": {
        "id": "yMPZ5fZ1C0l8"
      },
      "source": [
        "dataset = pd.read_csv('DataNasabah.csv')\n"
      ],
      "execution_count": 4,
      "outputs": []
    },
    {
      "cell_type": "markdown",
      "metadata": {
        "id": "CrTV43l_igEt"
      },
      "source": [
        "**Melihat Dataset**"
      ]
    },
    {
      "cell_type": "code",
      "metadata": {
        "colab": {
          "base_uri": "https://localhost:8080/",
          "height": 343
        },
        "id": "x0aZX09-iexg",
        "outputId": "f0a109ff-4988-4ce2-ab45-135a5fe19c63"
      },
      "source": [
        "dataset.head()"
      ],
      "execution_count": 5,
      "outputs": [
        {
          "output_type": "execute_result",
          "data": {
            "text/html": [
              "<div>\n",
              "<style scoped>\n",
              "    .dataframe tbody tr th:only-of-type {\n",
              "        vertical-align: middle;\n",
              "    }\n",
              "\n",
              "    .dataframe tbody tr th {\n",
              "        vertical-align: top;\n",
              "    }\n",
              "\n",
              "    .dataframe thead th {\n",
              "        text-align: right;\n",
              "    }\n",
              "</style>\n",
              "<table border=\"1\" class=\"dataframe\">\n",
              "  <thead>\n",
              "    <tr style=\"text-align: right;\">\n",
              "      <th></th>\n",
              "      <th>Nomer</th>\n",
              "      <th>IDKostumer</th>\n",
              "      <th>Nama</th>\n",
              "      <th>NilaiKredit</th>\n",
              "      <th>Provinsi</th>\n",
              "      <th>JenisKelamin</th>\n",
              "      <th>Umur</th>\n",
              "      <th>tenor</th>\n",
              "      <th>saldo</th>\n",
              "      <th>jumlahProduk</th>\n",
              "      <th>PunyaKartuKredit</th>\n",
              "      <th>NasabahAktif</th>\n",
              "      <th>PerkiraanPendapatan</th>\n",
              "      <th>TutupRekening</th>\n",
              "    </tr>\n",
              "  </thead>\n",
              "  <tbody>\n",
              "    <tr>\n",
              "      <th>0</th>\n",
              "      <td>1</td>\n",
              "      <td>15634602</td>\n",
              "      <td>ERWIN TJAHJONO</td>\n",
              "      <td>619</td>\n",
              "      <td>DKI Jakarta</td>\n",
              "      <td>Laki-Laki</td>\n",
              "      <td>42</td>\n",
              "      <td>2</td>\n",
              "      <td>0</td>\n",
              "      <td>1</td>\n",
              "      <td>1</td>\n",
              "      <td>1</td>\n",
              "      <td>10134888000</td>\n",
              "      <td>1</td>\n",
              "    </tr>\n",
              "    <tr>\n",
              "      <th>1</th>\n",
              "      <td>2</td>\n",
              "      <td>15647311</td>\n",
              "      <td>DAVIANDRIE ANDIKA BAHROENY</td>\n",
              "      <td>608</td>\n",
              "      <td>Jawa Barat</td>\n",
              "      <td>Laki-Laki</td>\n",
              "      <td>41</td>\n",
              "      <td>1</td>\n",
              "      <td>8380786000</td>\n",
              "      <td>1</td>\n",
              "      <td>0</td>\n",
              "      <td>1</td>\n",
              "      <td>11254258000</td>\n",
              "      <td>0</td>\n",
              "    </tr>\n",
              "    <tr>\n",
              "      <th>2</th>\n",
              "      <td>3</td>\n",
              "      <td>15619304</td>\n",
              "      <td>ELAN KURNIAWAN</td>\n",
              "      <td>502</td>\n",
              "      <td>DKI Jakarta</td>\n",
              "      <td>Laki-Laki</td>\n",
              "      <td>42</td>\n",
              "      <td>8</td>\n",
              "      <td>1596608000</td>\n",
              "      <td>3</td>\n",
              "      <td>1</td>\n",
              "      <td>0</td>\n",
              "      <td>11393157000</td>\n",
              "      <td>1</td>\n",
              "    </tr>\n",
              "    <tr>\n",
              "      <th>3</th>\n",
              "      <td>4</td>\n",
              "      <td>15701354</td>\n",
              "      <td>AYU DWI CAHYANING MUKTI</td>\n",
              "      <td>699</td>\n",
              "      <td>DKI Jakarta</td>\n",
              "      <td>Perempuan</td>\n",
              "      <td>39</td>\n",
              "      <td>1</td>\n",
              "      <td>0</td>\n",
              "      <td>2</td>\n",
              "      <td>0</td>\n",
              "      <td>0</td>\n",
              "      <td>9382663000</td>\n",
              "      <td>0</td>\n",
              "    </tr>\n",
              "    <tr>\n",
              "      <th>4</th>\n",
              "      <td>5</td>\n",
              "      <td>15737888</td>\n",
              "      <td>WAHYOEDIN</td>\n",
              "      <td>850</td>\n",
              "      <td>Jawa Barat</td>\n",
              "      <td>Laki-Laki</td>\n",
              "      <td>43</td>\n",
              "      <td>2</td>\n",
              "      <td>12551082000</td>\n",
              "      <td>1</td>\n",
              "      <td>1</td>\n",
              "      <td>1</td>\n",
              "      <td>790841000</td>\n",
              "      <td>0</td>\n",
              "    </tr>\n",
              "  </tbody>\n",
              "</table>\n",
              "</div>"
            ],
            "text/plain": [
              "   Nomer  IDKostumer  ... PerkiraanPendapatan  TutupRekening\n",
              "0      1    15634602  ...         10134888000              1\n",
              "1      2    15647311  ...         11254258000              0\n",
              "2      3    15619304  ...         11393157000              1\n",
              "3      4    15701354  ...          9382663000              0\n",
              "4      5    15737888  ...           790841000              0\n",
              "\n",
              "[5 rows x 14 columns]"
            ]
          },
          "metadata": {
            "tags": []
          },
          "execution_count": 5
        }
      ]
    },
    {
      "cell_type": "code",
      "metadata": {
        "colab": {
          "base_uri": "https://localhost:8080/",
          "height": 317
        },
        "id": "4EB0eylpio0U",
        "outputId": "e0854d56-bc71-4924-f2e5-b4822f03a1da"
      },
      "source": [
        "dataset.describe()"
      ],
      "execution_count": 6,
      "outputs": [
        {
          "output_type": "execute_result",
          "data": {
            "text/html": [
              "<div>\n",
              "<style scoped>\n",
              "    .dataframe tbody tr th:only-of-type {\n",
              "        vertical-align: middle;\n",
              "    }\n",
              "\n",
              "    .dataframe tbody tr th {\n",
              "        vertical-align: top;\n",
              "    }\n",
              "\n",
              "    .dataframe thead th {\n",
              "        text-align: right;\n",
              "    }\n",
              "</style>\n",
              "<table border=\"1\" class=\"dataframe\">\n",
              "  <thead>\n",
              "    <tr style=\"text-align: right;\">\n",
              "      <th></th>\n",
              "      <th>Nomer</th>\n",
              "      <th>IDKostumer</th>\n",
              "      <th>NilaiKredit</th>\n",
              "      <th>Umur</th>\n",
              "      <th>tenor</th>\n",
              "      <th>saldo</th>\n",
              "      <th>jumlahProduk</th>\n",
              "      <th>PunyaKartuKredit</th>\n",
              "      <th>NasabahAktif</th>\n",
              "      <th>PerkiraanPendapatan</th>\n",
              "      <th>TutupRekening</th>\n",
              "    </tr>\n",
              "  </thead>\n",
              "  <tbody>\n",
              "    <tr>\n",
              "      <th>count</th>\n",
              "      <td>10000.00000</td>\n",
              "      <td>1.000000e+04</td>\n",
              "      <td>10000.000000</td>\n",
              "      <td>10000.000000</td>\n",
              "      <td>10000.000000</td>\n",
              "      <td>1.000000e+04</td>\n",
              "      <td>10000.000000</td>\n",
              "      <td>10000.00000</td>\n",
              "      <td>10000.000000</td>\n",
              "      <td>1.000000e+04</td>\n",
              "      <td>10000.000000</td>\n",
              "    </tr>\n",
              "    <tr>\n",
              "      <th>mean</th>\n",
              "      <td>5000.50000</td>\n",
              "      <td>1.569094e+07</td>\n",
              "      <td>650.528800</td>\n",
              "      <td>38.921800</td>\n",
              "      <td>5.012800</td>\n",
              "      <td>6.980471e+09</td>\n",
              "      <td>1.530200</td>\n",
              "      <td>0.70550</td>\n",
              "      <td>0.515100</td>\n",
              "      <td>9.089385e+09</td>\n",
              "      <td>0.203700</td>\n",
              "    </tr>\n",
              "    <tr>\n",
              "      <th>std</th>\n",
              "      <td>2886.89568</td>\n",
              "      <td>7.193619e+04</td>\n",
              "      <td>96.653299</td>\n",
              "      <td>10.487806</td>\n",
              "      <td>2.892174</td>\n",
              "      <td>6.285896e+09</td>\n",
              "      <td>0.581654</td>\n",
              "      <td>0.45584</td>\n",
              "      <td>0.499797</td>\n",
              "      <td>6.128208e+09</td>\n",
              "      <td>0.402769</td>\n",
              "    </tr>\n",
              "    <tr>\n",
              "      <th>min</th>\n",
              "      <td>1.00000</td>\n",
              "      <td>1.556570e+07</td>\n",
              "      <td>350.000000</td>\n",
              "      <td>18.000000</td>\n",
              "      <td>0.000000</td>\n",
              "      <td>0.000000e+00</td>\n",
              "      <td>1.000000</td>\n",
              "      <td>0.00000</td>\n",
              "      <td>0.000000</td>\n",
              "      <td>5.230000e+05</td>\n",
              "      <td>0.000000</td>\n",
              "    </tr>\n",
              "    <tr>\n",
              "      <th>25%</th>\n",
              "      <td>2500.75000</td>\n",
              "      <td>1.562853e+07</td>\n",
              "      <td>584.000000</td>\n",
              "      <td>32.000000</td>\n",
              "      <td>3.000000</td>\n",
              "      <td>0.000000e+00</td>\n",
              "      <td>1.000000</td>\n",
              "      <td>0.00000</td>\n",
              "      <td>0.000000</td>\n",
              "      <td>3.336751e+09</td>\n",
              "      <td>0.000000</td>\n",
              "    </tr>\n",
              "    <tr>\n",
              "      <th>50%</th>\n",
              "      <td>5000.50000</td>\n",
              "      <td>1.569074e+07</td>\n",
              "      <td>652.000000</td>\n",
              "      <td>37.000000</td>\n",
              "      <td>5.000000</td>\n",
              "      <td>8.668510e+09</td>\n",
              "      <td>1.000000</td>\n",
              "      <td>1.00000</td>\n",
              "      <td>1.000000</td>\n",
              "      <td>8.890572e+09</td>\n",
              "      <td>0.000000</td>\n",
              "    </tr>\n",
              "    <tr>\n",
              "      <th>75%</th>\n",
              "      <td>7500.25000</td>\n",
              "      <td>1.575323e+07</td>\n",
              "      <td>718.000000</td>\n",
              "      <td>44.000000</td>\n",
              "      <td>7.000000</td>\n",
              "      <td>1.246215e+10</td>\n",
              "      <td>2.000000</td>\n",
              "      <td>1.00000</td>\n",
              "      <td>1.000000</td>\n",
              "      <td>1.439529e+10</td>\n",
              "      <td>0.000000</td>\n",
              "    </tr>\n",
              "    <tr>\n",
              "      <th>max</th>\n",
              "      <td>10000.00000</td>\n",
              "      <td>1.581569e+07</td>\n",
              "      <td>850.000000</td>\n",
              "      <td>92.000000</td>\n",
              "      <td>10.000000</td>\n",
              "      <td>2.508981e+10</td>\n",
              "      <td>4.000000</td>\n",
              "      <td>1.00000</td>\n",
              "      <td>1.000000</td>\n",
              "      <td>1.999925e+10</td>\n",
              "      <td>1.000000</td>\n",
              "    </tr>\n",
              "  </tbody>\n",
              "</table>\n",
              "</div>"
            ],
            "text/plain": [
              "             Nomer    IDKostumer  ...  PerkiraanPendapatan  TutupRekening\n",
              "count  10000.00000  1.000000e+04  ...         1.000000e+04   10000.000000\n",
              "mean    5000.50000  1.569094e+07  ...         9.089385e+09       0.203700\n",
              "std     2886.89568  7.193619e+04  ...         6.128208e+09       0.402769\n",
              "min        1.00000  1.556570e+07  ...         5.230000e+05       0.000000\n",
              "25%     2500.75000  1.562853e+07  ...         3.336751e+09       0.000000\n",
              "50%     5000.50000  1.569074e+07  ...         8.890572e+09       0.000000\n",
              "75%     7500.25000  1.575323e+07  ...         1.439529e+10       0.000000\n",
              "max    10000.00000  1.581569e+07  ...         1.999925e+10       1.000000\n",
              "\n",
              "[8 rows x 11 columns]"
            ]
          },
          "metadata": {
            "tags": []
          },
          "execution_count": 6
        }
      ]
    },
    {
      "cell_type": "code",
      "metadata": {
        "colab": {
          "base_uri": "https://localhost:8080/"
        },
        "id": "NKvcCHk9i1PK",
        "outputId": "0d5d6948-9e38-4492-efd3-a6647941450b"
      },
      "source": [
        "# Memeriksa tipe data dan nilai null\r\n",
        "dataset.info()"
      ],
      "execution_count": 7,
      "outputs": [
        {
          "output_type": "stream",
          "text": [
            "<class 'pandas.core.frame.DataFrame'>\n",
            "RangeIndex: 10000 entries, 0 to 9999\n",
            "Data columns (total 14 columns):\n",
            " #   Column               Non-Null Count  Dtype \n",
            "---  ------               --------------  ----- \n",
            " 0   Nomer                10000 non-null  int64 \n",
            " 1   IDKostumer           10000 non-null  int64 \n",
            " 2   Nama                 10000 non-null  object\n",
            " 3   NilaiKredit          10000 non-null  int64 \n",
            " 4   Provinsi             10000 non-null  object\n",
            " 5   JenisKelamin         10000 non-null  object\n",
            " 6   Umur                 10000 non-null  int64 \n",
            " 7   tenor                10000 non-null  int64 \n",
            " 8   saldo                10000 non-null  int64 \n",
            " 9   jumlahProduk         10000 non-null  int64 \n",
            " 10  PunyaKartuKredit     10000 non-null  int64 \n",
            " 11  NasabahAktif         10000 non-null  int64 \n",
            " 12  PerkiraanPendapatan  10000 non-null  int64 \n",
            " 13  TutupRekening        10000 non-null  int64 \n",
            "dtypes: int64(11), object(3)\n",
            "memory usage: 1.1+ MB\n"
          ],
          "name": "stdout"
        }
      ]
    },
    {
      "cell_type": "code",
      "metadata": {
        "id": "Rv809U43icrt"
      },
      "source": [
        "# Mengabaikan 3 kolom pertama dan kolom terakhir, karena bukan fitur yang berguna.\r\n",
        "# Indek dimulai dari 0.\r\n",
        "x = dataset.iloc[:, 3:-1].values\r\n",
        "\r\n",
        "# ambil kolom terakhir untuk mendapatkan sebagai nilai penentu(kelas tutup rekening / ada rekening).\r\n",
        "# Just get the last column of dataset for the dependent variable.\r\n",
        "y = dataset.iloc[:, -1].values"
      ],
      "execution_count": 8,
      "outputs": []
    },
    {
      "cell_type": "code",
      "metadata": {
        "id": "TXXQFllPECxy",
        "colab": {
          "base_uri": "https://localhost:8080/"
        },
        "outputId": "0b52bad8-c6d8-4639-b95d-3737ef9513a0"
      },
      "source": [
        "print(x)"
      ],
      "execution_count": 9,
      "outputs": [
        {
          "output_type": "stream",
          "text": [
            "[[619 'DKI Jakarta' 'Laki-Laki' ... 1 1 10134888000]\n",
            " [608 'Jawa Barat' 'Laki-Laki' ... 0 1 11254258000]\n",
            " [502 'DKI Jakarta' 'Laki-Laki' ... 1 0 11393157000]\n",
            " ...\n",
            " [709 'DKI Jakarta' 'Perempuan' ... 0 1 4208558000]\n",
            " [772 'Jawa Tengah' 'Laki-Laki' ... 1 0 9288852000]\n",
            " [792 'DKI Jakarta' 'Perempuan' ... 1 0 3819078000]]\n"
          ],
          "name": "stdout"
        }
      ]
    },
    {
      "cell_type": "code",
      "metadata": {
        "id": "KqKsJakuEL9x",
        "colab": {
          "base_uri": "https://localhost:8080/"
        },
        "outputId": "c4e7489d-c9bf-4679-8fb1-651328279947"
      },
      "source": [
        "print(y)"
      ],
      "execution_count": 10,
      "outputs": [
        {
          "output_type": "stream",
          "text": [
            "[1 0 1 ... 1 1 0]\n"
          ],
          "name": "stdout"
        }
      ]
    },
    {
      "cell_type": "markdown",
      "metadata": {
        "id": "N6bQ0UgSU-NJ"
      },
      "source": [
        "### Mengkodekan kategori data"
      ]
    },
    {
      "cell_type": "markdown",
      "metadata": {
        "id": "le5MJreAbW52"
      },
      "source": [
        "Melabeli kode kolom \"JenisKelamin\" "
      ]
    },
    {
      "cell_type": "code",
      "metadata": {
        "id": "a-xAlk2SFySc"
      },
      "source": [
        "from sklearn.preprocessing import LabelEncoder\n",
        "le = LabelEncoder()\n",
        "# Ambil semua baris untuk kolom ke-2 dan dikodekan.\n",
        "x[:, 2] = le.fit_transform(x[:, 2])"
      ],
      "execution_count": 11,
      "outputs": []
    },
    {
      "cell_type": "code",
      "metadata": {
        "id": "O5lp8JYcGB-9",
        "colab": {
          "base_uri": "https://localhost:8080/"
        },
        "outputId": "5e3d1c3c-0909-4f90-cc8b-a3eb88495248"
      },
      "source": [
        "print(x)"
      ],
      "execution_count": 12,
      "outputs": [
        {
          "output_type": "stream",
          "text": [
            "[[619 'DKI Jakarta' 0 ... 1 1 10134888000]\n",
            " [608 'Jawa Barat' 0 ... 0 1 11254258000]\n",
            " [502 'DKI Jakarta' 0 ... 1 0 11393157000]\n",
            " ...\n",
            " [709 'DKI Jakarta' 1 ... 0 1 4208558000]\n",
            " [772 'Jawa Tengah' 0 ... 1 0 9288852000]\n",
            " [792 'DKI Jakarta' 1 ... 1 0 3819078000]]\n"
          ],
          "name": "stdout"
        }
      ]
    },
    {
      "cell_type": "markdown",
      "metadata": {
        "id": "CUxGZezpbMcb"
      },
      "source": [
        "One Hot Encoding Kolom \"Provinsi\" "
      ]
    },
    {
      "cell_type": "code",
      "metadata": {
        "id": "xB5DhfbFGOa1"
      },
      "source": [
        "# dibuatkan one hot coding untuk tempat provinsi karena hal tersebut tidak berhubungan dengan mereka sendiri seperti halnya jenis kelamin.\n",
        "from sklearn.compose import ColumnTransformer\n",
        "from sklearn.preprocessing import OneHotEncoder\n",
        "ct = ColumnTransformer(transformers=[('encoder', OneHotEncoder(), [1])], remainder='passthrough')\n",
        "x = np.array(ct.fit_transform(x))"
      ],
      "execution_count": 13,
      "outputs": []
    },
    {
      "cell_type": "code",
      "metadata": {
        "id": "uULuNtHlGx6Z",
        "colab": {
          "base_uri": "https://localhost:8080/"
        },
        "outputId": "a20f44c2-fb3f-4b94-f995-6ccd1533e04e"
      },
      "source": [
        "print (x)"
      ],
      "execution_count": 14,
      "outputs": [
        {
          "output_type": "stream",
          "text": [
            "[[1.0 0.0 0.0 ... 1 1 10134888000]\n",
            " [0.0 1.0 0.0 ... 0 1 11254258000]\n",
            " [1.0 0.0 0.0 ... 1 0 11393157000]\n",
            " ...\n",
            " [1.0 0.0 0.0 ... 0 1 4208558000]\n",
            " [0.0 0.0 1.0 ... 1 0 9288852000]\n",
            " [1.0 0.0 0.0 ... 1 0 3819078000]]\n"
          ],
          "name": "stdout"
        }
      ]
    },
    {
      "cell_type": "markdown",
      "metadata": {
        "id": "vHol938cW8zd"
      },
      "source": [
        "### Membagi dataset menjadi data ajar dan data tes"
      ]
    },
    {
      "cell_type": "code",
      "metadata": {
        "id": "Kvh-Pvd0HQBE"
      },
      "source": [
        "from sklearn.model_selection import train_test_split\n",
        "X_train, X_test, y_train, y_test = train_test_split(x, y, test_size = 0.2, random_state = 1)"
      ],
      "execution_count": 15,
      "outputs": []
    },
    {
      "cell_type": "markdown",
      "metadata": {
        "id": "RE_FcHyfV3TQ"
      },
      "source": [
        "### Skalar Fitur"
      ]
    },
    {
      "cell_type": "code",
      "metadata": {
        "id": "yNnAKk-ZHjtG"
      },
      "source": [
        "# membuat skalar fitur untuk semua fitur yang ada dalam data ajar dan tes.\n",
        "from sklearn.preprocessing import StandardScaler\n",
        "sc = StandardScaler()\n",
        "# Penyesuaian Skalar hanya pada data ajar untuk mencegah kebocoran informasi.\n",
        "X_train = sc.fit_transform(X_train)\n",
        "X_test = sc.transform(X_test)"
      ],
      "execution_count": 16,
      "outputs": []
    },
    {
      "cell_type": "markdown",
      "metadata": {
        "id": "-zfEzkRVXIwF"
      },
      "source": [
        "## Bagian 2 - Membangun ANN"
      ]
    },
    {
      "cell_type": "markdown",
      "metadata": {
        "id": "KvdeScabXtlB"
      },
      "source": [
        "### Penyiapkan ANN"
      ]
    },
    {
      "cell_type": "code",
      "metadata": {
        "id": "KbuRWuZHJfhH"
      },
      "source": [
        "# Membuat variabel yang mempresentasikan  ANN sebagai contoh dari kelas sekuensial yang menyiapkan ANN.\n",
        "ann = tf.keras.models.Sequential()"
      ],
      "execution_count": 17,
      "outputs": []
    },
    {
      "cell_type": "markdown",
      "metadata": {
        "id": "rP6urV6SX7kS"
      },
      "source": [
        "### Menambahkan layer masukan dan layer pertama tersembunyi"
      ]
    },
    {
      "cell_type": "code",
      "metadata": {
        "id": "a7jOItvHJ-dm"
      },
      "source": [
        "# prosedur add() merupakan bagian kelas sekuensial.\n",
        "# penambahan keseluruhan layer yang terhubung (tersembunyi), yang menjari objek baru untuk kelas yang padat.\n",
        "# argumen dari dense() - \n",
        "# 'units' - merupakan penyebutan hyperparameters dan merupakan syaraf tersembunyi.\n",
        "# 'activation' - fungsi aktifasi dalam layer yang tersembunyi harus sebagai fungsi aktifasi penyearah.\n",
        "ann.add(tf.keras.layers.Dense(units=6, activation='relu')) # 'relu' - nama kode untuk fungsi aktifasi penyearah."
      ],
      "execution_count": 18,
      "outputs": []
    },
    {
      "cell_type": "markdown",
      "metadata": {
        "id": "BELWAc_8YJze"
      },
      "source": [
        "### Menambahkan layar tersembunyi kedua"
      ]
    },
    {
      "cell_type": "code",
      "metadata": {
        "id": "OyasTMIPLyDv"
      },
      "source": [
        "ann.add(tf.keras.layers.Dense(units=6, activation='relu')) "
      ],
      "execution_count": 19,
      "outputs": []
    },
    {
      "cell_type": "markdown",
      "metadata": {
        "id": "OyNEe6RXYcU4"
      },
      "source": [
        "### Menambahkan layer keluaran"
      ]
    },
    {
      "cell_type": "code",
      "metadata": {
        "id": "Rzk_uINVMErN"
      },
      "source": [
        "# Sebagaimana Layer Keluaran merupakan suatu binari yang hanya 1 syaraf untuk dicocokan dengan layer keluaran, sehingga 'units' = 1\n",
        "# dibutuhkan fungsi aktifasi sigmoid, karena hal ini memberikan prediksi sebagaimana peluang probalilitasnya.# jika akan memprediksi variabel kategori, maka activation = 'sigmax'\n",
        "ann.add(tf.keras.layers.Dense(units=1, activation='sigmoid')) "
      ],
      "execution_count": 20,
      "outputs": []
    },
    {
      "cell_type": "markdown",
      "metadata": {
        "id": "JT4u2S1_Y4WG"
      },
      "source": [
        "## Bagian 3 - Pelatihan ANN"
      ]
    },
    {
      "cell_type": "markdown",
      "metadata": {
        "id": "8GWlJChhY_ZI"
      },
      "source": [
        "### Mengkompilasi ANN"
      ]
    },
    {
      "cell_type": "code",
      "metadata": {
        "id": "CQ8W_gW-NpeR"
      },
      "source": [
        "# Argumen - \n",
        "# 'optimizer' - dipilih optimasi 'adam' karena dapat memberikan performa penurunan gradien stokastik. \n",
        "#  Penurunan gradien stokastik akan mengoptimalkan bobot untuk meminimalkan kerugian antara nilai aktual dan prediksi.\n",
        "# 'loss' - Saat dilakukan klasifikasi biner dalam memprediksi variabel biner gunakan 'binary_crossentropy' dan \n",
        "#  jika memiliki variabel kategorikal untuk memprediksi digunakan 'categorical_crossentropy'\n",
        "# 'metrics' - \n",
        "ann.compile(optimizer='adam', loss='binary_crossentropy', metrics=['accuracy'])"
      ],
      "execution_count": 21,
      "outputs": []
    },
    {
      "cell_type": "markdown",
      "metadata": {
        "id": "0QR_G5u7ZLSM"
      },
      "source": [
        "### Pelatihan ANN pada data ajar"
      ]
    },
    {
      "cell_type": "code",
      "metadata": {
        "id": "hMm4DQK_QZHP",
        "colab": {
          "base_uri": "https://localhost:8080/"
        },
        "outputId": "a921fb60-d710-4747-c1d2-996074c1ed86"
      },
      "source": [
        "# Pembelajaran batch, ukuran batch default untuk dibandingkan dengan hasil aktual = 32\n",
        "ann.fit(X_train, y_train, batch_size=32, epochs=100)\n",
        "# Seperti yang bisa dilihat, akurasi berkumpul di sekitar 0,86 di sekitar epoch = 26, jadi tidak dibutuhkan sampai 100 epoch."
      ],
      "execution_count": 22,
      "outputs": [
        {
          "output_type": "stream",
          "text": [
            "Epoch 1/100\n",
            "250/250 [==============================] - 2s 2ms/step - loss: 0.6661 - accuracy: 0.5865\n",
            "Epoch 2/100\n",
            "250/250 [==============================] - 0s 2ms/step - loss: 0.4912 - accuracy: 0.7956\n",
            "Epoch 3/100\n",
            "250/250 [==============================] - 0s 2ms/step - loss: 0.4551 - accuracy: 0.8037\n",
            "Epoch 4/100\n",
            "250/250 [==============================] - 0s 2ms/step - loss: 0.4352 - accuracy: 0.8126\n",
            "Epoch 5/100\n",
            "250/250 [==============================] - 0s 2ms/step - loss: 0.4276 - accuracy: 0.8186\n",
            "Epoch 6/100\n",
            "250/250 [==============================] - 0s 2ms/step - loss: 0.4160 - accuracy: 0.8177\n",
            "Epoch 7/100\n",
            "250/250 [==============================] - 0s 2ms/step - loss: 0.4073 - accuracy: 0.8231\n",
            "Epoch 8/100\n",
            "250/250 [==============================] - 0s 2ms/step - loss: 0.4029 - accuracy: 0.8264\n",
            "Epoch 9/100\n",
            "250/250 [==============================] - 0s 2ms/step - loss: 0.3959 - accuracy: 0.8307\n",
            "Epoch 10/100\n",
            "250/250 [==============================] - 0s 2ms/step - loss: 0.3899 - accuracy: 0.8325\n",
            "Epoch 11/100\n",
            "250/250 [==============================] - 0s 2ms/step - loss: 0.3828 - accuracy: 0.8395\n",
            "Epoch 12/100\n",
            "250/250 [==============================] - 0s 2ms/step - loss: 0.3721 - accuracy: 0.8474\n",
            "Epoch 13/100\n",
            "250/250 [==============================] - 0s 2ms/step - loss: 0.3771 - accuracy: 0.8455\n",
            "Epoch 14/100\n",
            "250/250 [==============================] - 0s 2ms/step - loss: 0.3630 - accuracy: 0.8470\n",
            "Epoch 15/100\n",
            "250/250 [==============================] - 0s 2ms/step - loss: 0.3705 - accuracy: 0.8425\n",
            "Epoch 16/100\n",
            "250/250 [==============================] - 0s 2ms/step - loss: 0.3575 - accuracy: 0.8513\n",
            "Epoch 17/100\n",
            "250/250 [==============================] - 0s 2ms/step - loss: 0.3740 - accuracy: 0.8462\n",
            "Epoch 18/100\n",
            "250/250 [==============================] - 0s 2ms/step - loss: 0.3551 - accuracy: 0.8528\n",
            "Epoch 19/100\n",
            "250/250 [==============================] - 0s 2ms/step - loss: 0.3483 - accuracy: 0.8645\n",
            "Epoch 20/100\n",
            "250/250 [==============================] - 0s 2ms/step - loss: 0.3584 - accuracy: 0.8525\n",
            "Epoch 21/100\n",
            "250/250 [==============================] - 0s 2ms/step - loss: 0.3537 - accuracy: 0.8499\n",
            "Epoch 22/100\n",
            "250/250 [==============================] - 0s 2ms/step - loss: 0.3454 - accuracy: 0.8598\n",
            "Epoch 23/100\n",
            "250/250 [==============================] - 0s 2ms/step - loss: 0.3527 - accuracy: 0.8538\n",
            "Epoch 24/100\n",
            "250/250 [==============================] - 0s 2ms/step - loss: 0.3538 - accuracy: 0.8530\n",
            "Epoch 25/100\n",
            "250/250 [==============================] - 0s 2ms/step - loss: 0.3425 - accuracy: 0.8595\n",
            "Epoch 26/100\n",
            "250/250 [==============================] - 0s 2ms/step - loss: 0.3421 - accuracy: 0.8608\n",
            "Epoch 27/100\n",
            "250/250 [==============================] - 0s 2ms/step - loss: 0.3431 - accuracy: 0.8609\n",
            "Epoch 28/100\n",
            "250/250 [==============================] - 0s 2ms/step - loss: 0.3429 - accuracy: 0.8599\n",
            "Epoch 29/100\n",
            "250/250 [==============================] - 0s 2ms/step - loss: 0.3526 - accuracy: 0.8525\n",
            "Epoch 30/100\n",
            "250/250 [==============================] - 0s 2ms/step - loss: 0.3416 - accuracy: 0.8594\n",
            "Epoch 31/100\n",
            "250/250 [==============================] - 0s 2ms/step - loss: 0.3438 - accuracy: 0.8628\n",
            "Epoch 32/100\n",
            "250/250 [==============================] - 0s 2ms/step - loss: 0.3334 - accuracy: 0.8661\n",
            "Epoch 33/100\n",
            "250/250 [==============================] - 0s 2ms/step - loss: 0.3577 - accuracy: 0.8539\n",
            "Epoch 34/100\n",
            "250/250 [==============================] - 0s 2ms/step - loss: 0.3480 - accuracy: 0.8522\n",
            "Epoch 35/100\n",
            "250/250 [==============================] - 0s 2ms/step - loss: 0.3407 - accuracy: 0.8602\n",
            "Epoch 36/100\n",
            "250/250 [==============================] - 0s 2ms/step - loss: 0.3484 - accuracy: 0.8585\n",
            "Epoch 37/100\n",
            "250/250 [==============================] - 0s 2ms/step - loss: 0.3535 - accuracy: 0.8568\n",
            "Epoch 38/100\n",
            "250/250 [==============================] - 0s 2ms/step - loss: 0.3443 - accuracy: 0.8587\n",
            "Epoch 39/100\n",
            "250/250 [==============================] - 0s 2ms/step - loss: 0.3365 - accuracy: 0.8636\n",
            "Epoch 40/100\n",
            "250/250 [==============================] - 0s 2ms/step - loss: 0.3390 - accuracy: 0.8635\n",
            "Epoch 41/100\n",
            "250/250 [==============================] - 0s 2ms/step - loss: 0.3502 - accuracy: 0.8529\n",
            "Epoch 42/100\n",
            "250/250 [==============================] - 0s 2ms/step - loss: 0.3369 - accuracy: 0.8624\n",
            "Epoch 43/100\n",
            "250/250 [==============================] - 0s 2ms/step - loss: 0.3263 - accuracy: 0.8676\n",
            "Epoch 44/100\n",
            "250/250 [==============================] - 0s 2ms/step - loss: 0.3445 - accuracy: 0.8599\n",
            "Epoch 45/100\n",
            "250/250 [==============================] - 0s 2ms/step - loss: 0.3440 - accuracy: 0.8598\n",
            "Epoch 46/100\n",
            "250/250 [==============================] - 0s 2ms/step - loss: 0.3420 - accuracy: 0.8620\n",
            "Epoch 47/100\n",
            "250/250 [==============================] - 0s 2ms/step - loss: 0.3382 - accuracy: 0.8637\n",
            "Epoch 48/100\n",
            "250/250 [==============================] - 0s 2ms/step - loss: 0.3376 - accuracy: 0.8607\n",
            "Epoch 49/100\n",
            "250/250 [==============================] - 0s 2ms/step - loss: 0.3497 - accuracy: 0.8546\n",
            "Epoch 50/100\n",
            "250/250 [==============================] - 0s 2ms/step - loss: 0.3431 - accuracy: 0.8605\n",
            "Epoch 51/100\n",
            "250/250 [==============================] - 0s 2ms/step - loss: 0.3416 - accuracy: 0.8659\n",
            "Epoch 52/100\n",
            "250/250 [==============================] - 0s 2ms/step - loss: 0.3329 - accuracy: 0.8652\n",
            "Epoch 53/100\n",
            "250/250 [==============================] - 0s 2ms/step - loss: 0.3351 - accuracy: 0.8686\n",
            "Epoch 54/100\n",
            "250/250 [==============================] - 0s 2ms/step - loss: 0.3441 - accuracy: 0.8598\n",
            "Epoch 55/100\n",
            "250/250 [==============================] - 0s 2ms/step - loss: 0.3459 - accuracy: 0.8611\n",
            "Epoch 56/100\n",
            "250/250 [==============================] - 0s 2ms/step - loss: 0.3365 - accuracy: 0.8623\n",
            "Epoch 57/100\n",
            "250/250 [==============================] - 0s 2ms/step - loss: 0.3453 - accuracy: 0.8544\n",
            "Epoch 58/100\n",
            "250/250 [==============================] - 0s 2ms/step - loss: 0.3562 - accuracy: 0.8539\n",
            "Epoch 59/100\n",
            "250/250 [==============================] - 0s 2ms/step - loss: 0.3444 - accuracy: 0.8559\n",
            "Epoch 60/100\n",
            "250/250 [==============================] - 0s 2ms/step - loss: 0.3294 - accuracy: 0.8678\n",
            "Epoch 61/100\n",
            "250/250 [==============================] - 0s 2ms/step - loss: 0.3390 - accuracy: 0.8632\n",
            "Epoch 62/100\n",
            "250/250 [==============================] - 0s 2ms/step - loss: 0.3332 - accuracy: 0.8663\n",
            "Epoch 63/100\n",
            "250/250 [==============================] - 0s 2ms/step - loss: 0.3443 - accuracy: 0.8589\n",
            "Epoch 64/100\n",
            "250/250 [==============================] - 0s 2ms/step - loss: 0.3403 - accuracy: 0.8588\n",
            "Epoch 65/100\n",
            "250/250 [==============================] - 0s 2ms/step - loss: 0.3430 - accuracy: 0.8581\n",
            "Epoch 66/100\n",
            "250/250 [==============================] - 0s 2ms/step - loss: 0.3337 - accuracy: 0.8675\n",
            "Epoch 67/100\n",
            "250/250 [==============================] - 0s 2ms/step - loss: 0.3261 - accuracy: 0.8699\n",
            "Epoch 68/100\n",
            "250/250 [==============================] - 0s 2ms/step - loss: 0.3342 - accuracy: 0.8642\n",
            "Epoch 69/100\n",
            "250/250 [==============================] - 0s 2ms/step - loss: 0.3369 - accuracy: 0.8615\n",
            "Epoch 70/100\n",
            "250/250 [==============================] - 0s 2ms/step - loss: 0.3360 - accuracy: 0.8682\n",
            "Epoch 71/100\n",
            "250/250 [==============================] - 0s 2ms/step - loss: 0.3393 - accuracy: 0.8639\n",
            "Epoch 72/100\n",
            "250/250 [==============================] - 0s 2ms/step - loss: 0.3451 - accuracy: 0.8579\n",
            "Epoch 73/100\n",
            "250/250 [==============================] - 0s 2ms/step - loss: 0.3441 - accuracy: 0.8567\n",
            "Epoch 74/100\n",
            "250/250 [==============================] - 0s 2ms/step - loss: 0.3327 - accuracy: 0.8644\n",
            "Epoch 75/100\n",
            "250/250 [==============================] - 0s 2ms/step - loss: 0.3406 - accuracy: 0.8601\n",
            "Epoch 76/100\n",
            "250/250 [==============================] - 0s 2ms/step - loss: 0.3386 - accuracy: 0.8616\n",
            "Epoch 77/100\n",
            "250/250 [==============================] - 0s 2ms/step - loss: 0.3526 - accuracy: 0.8551\n",
            "Epoch 78/100\n",
            "250/250 [==============================] - 0s 2ms/step - loss: 0.3517 - accuracy: 0.8535\n",
            "Epoch 79/100\n",
            "250/250 [==============================] - 0s 2ms/step - loss: 0.3390 - accuracy: 0.8663\n",
            "Epoch 80/100\n",
            "250/250 [==============================] - 0s 2ms/step - loss: 0.3378 - accuracy: 0.8650\n",
            "Epoch 81/100\n",
            "250/250 [==============================] - 0s 2ms/step - loss: 0.3352 - accuracy: 0.8647\n",
            "Epoch 82/100\n",
            "250/250 [==============================] - 0s 2ms/step - loss: 0.3480 - accuracy: 0.8550\n",
            "Epoch 83/100\n",
            "250/250 [==============================] - 0s 2ms/step - loss: 0.3231 - accuracy: 0.8663\n",
            "Epoch 84/100\n",
            "250/250 [==============================] - 0s 2ms/step - loss: 0.3369 - accuracy: 0.8592\n",
            "Epoch 85/100\n",
            "250/250 [==============================] - 0s 2ms/step - loss: 0.3364 - accuracy: 0.8600\n",
            "Epoch 86/100\n",
            "250/250 [==============================] - 0s 2ms/step - loss: 0.3335 - accuracy: 0.8626\n",
            "Epoch 87/100\n",
            "250/250 [==============================] - 0s 2ms/step - loss: 0.3276 - accuracy: 0.8690\n",
            "Epoch 88/100\n",
            "250/250 [==============================] - 0s 2ms/step - loss: 0.3310 - accuracy: 0.8628\n",
            "Epoch 89/100\n",
            "250/250 [==============================] - 0s 2ms/step - loss: 0.3343 - accuracy: 0.8625\n",
            "Epoch 90/100\n",
            "250/250 [==============================] - 0s 2ms/step - loss: 0.3425 - accuracy: 0.8567\n",
            "Epoch 91/100\n",
            "250/250 [==============================] - 0s 2ms/step - loss: 0.3373 - accuracy: 0.8587\n",
            "Epoch 92/100\n",
            "250/250 [==============================] - 0s 2ms/step - loss: 0.3289 - accuracy: 0.8657\n",
            "Epoch 93/100\n",
            "250/250 [==============================] - 0s 2ms/step - loss: 0.3412 - accuracy: 0.8555\n",
            "Epoch 94/100\n",
            "250/250 [==============================] - 0s 2ms/step - loss: 0.3382 - accuracy: 0.8609\n",
            "Epoch 95/100\n",
            "250/250 [==============================] - 0s 2ms/step - loss: 0.3410 - accuracy: 0.8583\n",
            "Epoch 96/100\n",
            "250/250 [==============================] - 0s 2ms/step - loss: 0.3342 - accuracy: 0.8615\n",
            "Epoch 97/100\n",
            "250/250 [==============================] - 0s 2ms/step - loss: 0.3474 - accuracy: 0.8576\n",
            "Epoch 98/100\n",
            "250/250 [==============================] - 0s 2ms/step - loss: 0.3396 - accuracy: 0.8614\n",
            "Epoch 99/100\n",
            "250/250 [==============================] - 0s 2ms/step - loss: 0.3440 - accuracy: 0.8565\n",
            "Epoch 100/100\n",
            "250/250 [==============================] - 0s 2ms/step - loss: 0.3343 - accuracy: 0.8614\n"
          ],
          "name": "stdout"
        },
        {
          "output_type": "execute_result",
          "data": {
            "text/plain": [
              "<tensorflow.python.keras.callbacks.History at 0x7fdff00373c8>"
            ]
          },
          "metadata": {
            "tags": []
          },
          "execution_count": 22
        }
      ]
    },
    {
      "cell_type": "markdown",
      "metadata": {
        "id": "tJj5k2MxZga3"
      },
      "source": [
        "## Bagian 4 - Membuat Prediksi dan mengevaluasi model"
      ]
    },
    {
      "cell_type": "markdown",
      "metadata": {
        "id": "84QFoqGYeXHL"
      },
      "source": [
        "### Memprediksi Hasil dari observasi tunggal"
      ]
    },
    {
      "cell_type": "markdown",
      "metadata": {
        "id": "CGRo3eacgDdC"
      },
      "source": [
        "Menggunakan model ANN ini untuk memprediksi apakah nasabah dengan informasi berikut akan menutup rekening : \n",
        "\n",
        "Provinsi: DKI Jakarta\n",
        "\n",
        "Nilai Kredit: 600\n",
        "\n",
        "Jenis Kelamin: Laki-Laki\n",
        "\n",
        "Umur: 40 years old\n",
        "\n",
        "Tenor: 3 years\n",
        "\n",
        "Saldo: \\$ 60000\n",
        "\n",
        "Jumlah Produk: 2\n",
        "\n",
        "Apakah punya kartu kredit? Yes\n",
        "\n",
        "nasabah aktif: Yes\n",
        "\n",
        "perkiraan pendapatan: \\$ 50000\n",
        "\n",
        "Jadi, haruskah diucapkan selamat tinggal kepada pelanggan tersebut?"
      ]
    },
    {
      "cell_type": "markdown",
      "metadata": {
        "id": "ZhU1LTgPg-kH"
      },
      "source": [
        "**Solution**"
      ]
    },
    {
      "cell_type": "code",
      "metadata": {
        "id": "qi6KZBiBSZon",
        "colab": {
          "base_uri": "https://localhost:8080/"
        },
        "outputId": "ee517407-c3eb-457e-df4b-eae518213a12"
      },
      "source": [
        "# Sebagaimana digunakan fungsi sigmoid, diperoleh probabilitas nasabah ini tutup rekening :.\n",
        "print(ann.predict(sc.transform([[1, 0, 0, 600, 1, 40, 3, 60000, 2, 1, 1, 50000]])))"
      ],
      "execution_count": 23,
      "outputs": [
        {
          "output_type": "stream",
          "text": [
            "[[0.02820033]]\n"
          ],
          "name": "stdout"
        }
      ]
    },
    {
      "cell_type": "markdown",
      "metadata": {
        "id": "wGjx94g2n7OV"
      },
      "source": [
        "Namum, model ANN ini memprediksi nasabah tersebut masih memiliki rekening di bank!\n",
        "\n",
        "**Catatan Penting 1:** Perhatikan bahwa nilai fitur yang diinputkan dalam kurung siku pasangan ganda. karena metoda \"predict\" selalu mengharapkan array 2D array sebagai input. Dan menaruh nilai tersebut dalam kurung siku pasangan ganda membuat input menjadi array 2D.\n",
        "\n",
        "**Catatan Penting 2:** Perhatikan juga bahwa Provinsi \"DKI Jakarta\" tidak sebagai input string pada kolom tetapi sebagai \"1, 0, 0\" dalam 3 kolom pertama. Hal itu dikarenakan metoda prediksi mengharapkan nilai one-hot-encoded sebagai inputan, dan seperti yang terlihat pada baris pertama dari fitur matrik X, \"DKI Jakarta\" dikodekan sebagai \"1, 0, 0\". Dan selalu perhatikan untuk memasukan nilai ini dalam 3 kolom pertama, karena variabel buatan selalu dibuat dalam kolom pertama."
      ]
    },
    {
      "cell_type": "markdown",
      "metadata": {
        "id": "u7yx47jPZt11"
      },
      "source": [
        "### Memprediksi data tes"
      ]
    },
    {
      "cell_type": "code",
      "metadata": {
        "id": "gH2886DaWr3G",
        "colab": {
          "base_uri": "https://localhost:8080/"
        },
        "outputId": "c01fb96a-0469-444d-9a38-5185db0b85f0"
      },
      "source": [
        "# Ini merupakan probabilitas dari prediksi\n",
        "y_predicted = ann.predict(X_test)\n",
        "# Konversi probabilitas prediksi menjadi hasil binari\n",
        "y_predicted = (y_predicted > 0.5)\n",
        "print(np.concatenate((y_predicted.reshape(len(y_predicted),1), y_test.reshape(len(y_test),1)),1))"
      ],
      "execution_count": 24,
      "outputs": [
        {
          "output_type": "stream",
          "text": [
            "[[0 0]\n",
            " [0 0]\n",
            " [0 0]\n",
            " ...\n",
            " [0 0]\n",
            " [0 0]\n",
            " [1 0]]\n"
          ],
          "name": "stdout"
        }
      ]
    },
    {
      "cell_type": "markdown",
      "metadata": {
        "id": "o0oyfLWoaEGw"
      },
      "source": [
        "### Membuat Confusion Matrix"
      ]
    },
    {
      "cell_type": "code",
      "metadata": {
        "id": "bfi18WdedDwO",
        "colab": {
          "base_uri": "https://localhost:8080/"
        },
        "outputId": "c5ad7dd4-e665-4c74-97c2-97a5ef5e5159"
      },
      "source": [
        "from sklearn.metrics import confusion_matrix, accuracy_score\n",
        "cm = confusion_matrix(y_test, y_predicted)\n",
        "print(cm)\n",
        "accuracy_score(y_test, y_predicted)"
      ],
      "execution_count": 25,
      "outputs": [
        {
          "output_type": "stream",
          "text": [
            "[[1526   59]\n",
            " [ 219  196]]\n"
          ],
          "name": "stdout"
        },
        {
          "output_type": "execute_result",
          "data": {
            "text/plain": [
              "0.861"
            ]
          },
          "metadata": {
            "tags": []
          },
          "execution_count": 25
        }
      ]
    },
    {
      "cell_type": "markdown",
      "metadata": {
        "id": "B2i0xwBHdGpy"
      },
      "source": [
        "Sehingga, Akurasi = 86,1%\n",
        "\n",
        "Total Prediksi benar bahwa nasabah masih punya rekening = 1526\n",
        "\n",
        "Total Prediksi benar bahwa nasabah tutup rekening = 59\n",
        "\n",
        "Total Prediksi salah bahwa nasabah masih punya rekening = 219\n",
        "\n",
        "Total Prediksi salah bahwa nasabah tutup rekening = 196"
      ]
    }
  ]
}