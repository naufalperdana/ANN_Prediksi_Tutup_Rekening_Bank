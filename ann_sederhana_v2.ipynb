{
  "nbformat": 4,
  "nbformat_minor": 0,
  "metadata": {
    "colab": {
      "name": "ann_sederhana_v2.ipynb",
      "provenance": [],
      "collapsed_sections": [],
      "include_colab_link": true
    },
    "kernelspec": {
      "name": "python3",
      "display_name": "Python 3"
    },
    "accelerator": "GPU"
  },
  "cells": [
    {
      "cell_type": "markdown",
      "metadata": {
        "id": "view-in-github",
        "colab_type": "text"
      },
      "source": [
        "<a href=\"https://colab.research.google.com/github/naufalperdana/ANN_Prediksi_Tutup_Rekening_Bank/blob/main/ann_sederhana_v2.ipynb\" target=\"_parent\"><img src=\"https://colab.research.google.com/assets/colab-badge.svg\" alt=\"Open In Colab\"/></a>"
      ]
    },
    {
      "cell_type": "markdown",
      "metadata": {
        "id": "lP6JLo1tGNBg"
      },
      "source": [
        "# Pendeteksian Tutup Rekening Nasabah Bank  (Churn)"
      ]
    },
    {
      "cell_type": "markdown",
      "metadata": {
        "id": "1E0Q3aoKUCRX"
      },
      "source": [
        "## Bagian 1 - Data Preprocessing"
      ]
    },
    {
      "cell_type": "markdown",
      "metadata": {
        "id": "gWZyYmS_UE_L"
      },
      "source": [
        "### Importing the libraries"
      ]
    },
    {
      "cell_type": "code",
      "metadata": {
        "id": "M6pGKClMAbkw"
      },
      "source": [
        "import numpy as np\n",
        "import tensorflow as tf\n",
        "import pandas as pd"
      ],
      "execution_count": 1,
      "outputs": []
    },
    {
      "cell_type": "markdown",
      "metadata": {
        "id": "eWJobTnOA2On"
      },
      "source": [
        "Mengetahui Versi of Tensorflow"
      ]
    },
    {
      "cell_type": "code",
      "metadata": {
        "id": "IE55IaueAwaP",
        "colab": {
          "base_uri": "https://localhost:8080/",
          "height": 35
        },
        "outputId": "fddad02c-47bc-4030-cad5-ac0fd51fd98b"
      },
      "source": [
        "tf.__version__"
      ],
      "execution_count": 2,
      "outputs": [
        {
          "output_type": "execute_result",
          "data": {
            "application/vnd.google.colaboratory.intrinsic+json": {
              "type": "string"
            },
            "text/plain": [
              "'2.4.0'"
            ]
          },
          "metadata": {
            "tags": []
          },
          "execution_count": 2
        }
      ]
    },
    {
      "cell_type": "markdown",
      "metadata": {
        "id": "dnui9kbGCmp1"
      },
      "source": [
        "### Importing dataset\n"
      ]
    },
    {
      "cell_type": "code",
      "metadata": {
        "id": "x_Mnn1Gcs1ms",
        "outputId": "a1f23d52-0b39-410c-9c6b-f4b9f8a00b40",
        "colab": {
          "base_uri": "https://localhost:8080/"
        }
      },
      "source": [
        "!wget https://github.com/naufalperdana/ANN_Prediksi_Tutup_Rekening_Bank/raw/main/DataNasabah.csv"
      ],
      "execution_count": 3,
      "outputs": [
        {
          "output_type": "stream",
          "text": [
            "--2020-12-21 00:37:28--  https://github.com/naufalperdana/ANN_Prediksi_Tutup_Rekening_Bank/raw/main/DataNasabah.csv\n",
            "Resolving github.com (github.com)... 192.30.255.112\n",
            "Connecting to github.com (github.com)|192.30.255.112|:443... connected.\n",
            "HTTP request sent, awaiting response... 302 Found\n",
            "Location: https://raw.githubusercontent.com/naufalperdana/ANN_Prediksi_Tutup_Rekening_Bank/main/DataNasabah.csv [following]\n",
            "--2020-12-21 00:37:29--  https://raw.githubusercontent.com/naufalperdana/ANN_Prediksi_Tutup_Rekening_Bank/main/DataNasabah.csv\n",
            "Resolving raw.githubusercontent.com (raw.githubusercontent.com)... 151.101.0.133, 151.101.64.133, 151.101.128.133, ...\n",
            "Connecting to raw.githubusercontent.com (raw.githubusercontent.com)|151.101.0.133|:443... connected.\n",
            "HTTP request sent, awaiting response... 200 OK\n",
            "Length: 863152 (843K) [text/plain]\n",
            "Saving to: ‘DataNasabah.csv’\n",
            "\n",
            "DataNasabah.csv     100%[===================>] 842.92K  --.-KB/s    in 0.05s   \n",
            "\n",
            "2020-12-21 00:37:29 (17.1 MB/s) - ‘DataNasabah.csv’ saved [863152/863152]\n",
            "\n"
          ],
          "name": "stdout"
        }
      ]
    },
    {
      "cell_type": "code",
      "metadata": {
        "id": "yMPZ5fZ1C0l8"
      },
      "source": [
        "dataset = pd.read_csv('DataNasabah.csv')\n"
      ],
      "execution_count": 4,
      "outputs": []
    },
    {
      "cell_type": "markdown",
      "metadata": {
        "id": "CrTV43l_igEt"
      },
      "source": [
        "**Melihat Dataset**"
      ]
    },
    {
      "cell_type": "code",
      "metadata": {
        "colab": {
          "base_uri": "https://localhost:8080/",
          "height": 343
        },
        "id": "x0aZX09-iexg",
        "outputId": "b6daf315-9b50-45d3-a5fa-c1447aad7adf"
      },
      "source": [
        "dataset.head()"
      ],
      "execution_count": 5,
      "outputs": [
        {
          "output_type": "execute_result",
          "data": {
            "text/html": [
              "<div>\n",
              "<style scoped>\n",
              "    .dataframe tbody tr th:only-of-type {\n",
              "        vertical-align: middle;\n",
              "    }\n",
              "\n",
              "    .dataframe tbody tr th {\n",
              "        vertical-align: top;\n",
              "    }\n",
              "\n",
              "    .dataframe thead th {\n",
              "        text-align: right;\n",
              "    }\n",
              "</style>\n",
              "<table border=\"1\" class=\"dataframe\">\n",
              "  <thead>\n",
              "    <tr style=\"text-align: right;\">\n",
              "      <th></th>\n",
              "      <th>Nomer</th>\n",
              "      <th>IDKostumer</th>\n",
              "      <th>Nama</th>\n",
              "      <th>NilaiKredit</th>\n",
              "      <th>Provinsi</th>\n",
              "      <th>JenisKelamin</th>\n",
              "      <th>Umur</th>\n",
              "      <th>tenor</th>\n",
              "      <th>saldo</th>\n",
              "      <th>jumlahProduk</th>\n",
              "      <th>PunyaKartuKredit</th>\n",
              "      <th>NasabahAktif</th>\n",
              "      <th>PerkiraanPendapatan</th>\n",
              "      <th>TutupRekening</th>\n",
              "    </tr>\n",
              "  </thead>\n",
              "  <tbody>\n",
              "    <tr>\n",
              "      <th>0</th>\n",
              "      <td>1</td>\n",
              "      <td>15634602</td>\n",
              "      <td>ERWIN TJAHJONO</td>\n",
              "      <td>619</td>\n",
              "      <td>DKI Jakarta</td>\n",
              "      <td>Laki-Laki</td>\n",
              "      <td>42</td>\n",
              "      <td>2</td>\n",
              "      <td>0</td>\n",
              "      <td>1</td>\n",
              "      <td>1</td>\n",
              "      <td>1</td>\n",
              "      <td>10134888000</td>\n",
              "      <td>1</td>\n",
              "    </tr>\n",
              "    <tr>\n",
              "      <th>1</th>\n",
              "      <td>2</td>\n",
              "      <td>15647311</td>\n",
              "      <td>DAVIANDRIE ANDIKA BAHROENY</td>\n",
              "      <td>608</td>\n",
              "      <td>Jawa Barat</td>\n",
              "      <td>Laki-Laki</td>\n",
              "      <td>41</td>\n",
              "      <td>1</td>\n",
              "      <td>8380786000</td>\n",
              "      <td>1</td>\n",
              "      <td>0</td>\n",
              "      <td>1</td>\n",
              "      <td>11254258000</td>\n",
              "      <td>0</td>\n",
              "    </tr>\n",
              "    <tr>\n",
              "      <th>2</th>\n",
              "      <td>3</td>\n",
              "      <td>15619304</td>\n",
              "      <td>ELAN KURNIAWAN</td>\n",
              "      <td>502</td>\n",
              "      <td>DKI Jakarta</td>\n",
              "      <td>Laki-Laki</td>\n",
              "      <td>42</td>\n",
              "      <td>8</td>\n",
              "      <td>1596608000</td>\n",
              "      <td>3</td>\n",
              "      <td>1</td>\n",
              "      <td>0</td>\n",
              "      <td>11393157000</td>\n",
              "      <td>1</td>\n",
              "    </tr>\n",
              "    <tr>\n",
              "      <th>3</th>\n",
              "      <td>4</td>\n",
              "      <td>15701354</td>\n",
              "      <td>AYU DWI CAHYANING MUKTI</td>\n",
              "      <td>699</td>\n",
              "      <td>DKI Jakarta</td>\n",
              "      <td>Perempuan</td>\n",
              "      <td>39</td>\n",
              "      <td>1</td>\n",
              "      <td>0</td>\n",
              "      <td>2</td>\n",
              "      <td>0</td>\n",
              "      <td>0</td>\n",
              "      <td>9382663000</td>\n",
              "      <td>0</td>\n",
              "    </tr>\n",
              "    <tr>\n",
              "      <th>4</th>\n",
              "      <td>5</td>\n",
              "      <td>15737888</td>\n",
              "      <td>WAHYOEDIN</td>\n",
              "      <td>850</td>\n",
              "      <td>Jawa Barat</td>\n",
              "      <td>Laki-Laki</td>\n",
              "      <td>43</td>\n",
              "      <td>2</td>\n",
              "      <td>12551082000</td>\n",
              "      <td>1</td>\n",
              "      <td>1</td>\n",
              "      <td>1</td>\n",
              "      <td>790841000</td>\n",
              "      <td>0</td>\n",
              "    </tr>\n",
              "  </tbody>\n",
              "</table>\n",
              "</div>"
            ],
            "text/plain": [
              "   Nomer  IDKostumer  ... PerkiraanPendapatan  TutupRekening\n",
              "0      1    15634602  ...         10134888000              1\n",
              "1      2    15647311  ...         11254258000              0\n",
              "2      3    15619304  ...         11393157000              1\n",
              "3      4    15701354  ...          9382663000              0\n",
              "4      5    15737888  ...           790841000              0\n",
              "\n",
              "[5 rows x 14 columns]"
            ]
          },
          "metadata": {
            "tags": []
          },
          "execution_count": 5
        }
      ]
    },
    {
      "cell_type": "code",
      "metadata": {
        "colab": {
          "base_uri": "https://localhost:8080/",
          "height": 317
        },
        "id": "4EB0eylpio0U",
        "outputId": "5e0e93a6-9f45-405b-c902-5429ff361b55"
      },
      "source": [
        "dataset.describe()"
      ],
      "execution_count": 6,
      "outputs": [
        {
          "output_type": "execute_result",
          "data": {
            "text/html": [
              "<div>\n",
              "<style scoped>\n",
              "    .dataframe tbody tr th:only-of-type {\n",
              "        vertical-align: middle;\n",
              "    }\n",
              "\n",
              "    .dataframe tbody tr th {\n",
              "        vertical-align: top;\n",
              "    }\n",
              "\n",
              "    .dataframe thead th {\n",
              "        text-align: right;\n",
              "    }\n",
              "</style>\n",
              "<table border=\"1\" class=\"dataframe\">\n",
              "  <thead>\n",
              "    <tr style=\"text-align: right;\">\n",
              "      <th></th>\n",
              "      <th>Nomer</th>\n",
              "      <th>IDKostumer</th>\n",
              "      <th>NilaiKredit</th>\n",
              "      <th>Umur</th>\n",
              "      <th>tenor</th>\n",
              "      <th>saldo</th>\n",
              "      <th>jumlahProduk</th>\n",
              "      <th>PunyaKartuKredit</th>\n",
              "      <th>NasabahAktif</th>\n",
              "      <th>PerkiraanPendapatan</th>\n",
              "      <th>TutupRekening</th>\n",
              "    </tr>\n",
              "  </thead>\n",
              "  <tbody>\n",
              "    <tr>\n",
              "      <th>count</th>\n",
              "      <td>10000.00000</td>\n",
              "      <td>1.000000e+04</td>\n",
              "      <td>10000.000000</td>\n",
              "      <td>10000.000000</td>\n",
              "      <td>10000.000000</td>\n",
              "      <td>1.000000e+04</td>\n",
              "      <td>10000.000000</td>\n",
              "      <td>10000.00000</td>\n",
              "      <td>10000.000000</td>\n",
              "      <td>1.000000e+04</td>\n",
              "      <td>10000.000000</td>\n",
              "    </tr>\n",
              "    <tr>\n",
              "      <th>mean</th>\n",
              "      <td>5000.50000</td>\n",
              "      <td>1.569094e+07</td>\n",
              "      <td>650.528800</td>\n",
              "      <td>38.921800</td>\n",
              "      <td>5.012800</td>\n",
              "      <td>6.980471e+09</td>\n",
              "      <td>1.530200</td>\n",
              "      <td>0.70550</td>\n",
              "      <td>0.515100</td>\n",
              "      <td>9.089385e+09</td>\n",
              "      <td>0.203700</td>\n",
              "    </tr>\n",
              "    <tr>\n",
              "      <th>std</th>\n",
              "      <td>2886.89568</td>\n",
              "      <td>7.193619e+04</td>\n",
              "      <td>96.653299</td>\n",
              "      <td>10.487806</td>\n",
              "      <td>2.892174</td>\n",
              "      <td>6.285896e+09</td>\n",
              "      <td>0.581654</td>\n",
              "      <td>0.45584</td>\n",
              "      <td>0.499797</td>\n",
              "      <td>6.128208e+09</td>\n",
              "      <td>0.402769</td>\n",
              "    </tr>\n",
              "    <tr>\n",
              "      <th>min</th>\n",
              "      <td>1.00000</td>\n",
              "      <td>1.556570e+07</td>\n",
              "      <td>350.000000</td>\n",
              "      <td>18.000000</td>\n",
              "      <td>0.000000</td>\n",
              "      <td>0.000000e+00</td>\n",
              "      <td>1.000000</td>\n",
              "      <td>0.00000</td>\n",
              "      <td>0.000000</td>\n",
              "      <td>5.230000e+05</td>\n",
              "      <td>0.000000</td>\n",
              "    </tr>\n",
              "    <tr>\n",
              "      <th>25%</th>\n",
              "      <td>2500.75000</td>\n",
              "      <td>1.562853e+07</td>\n",
              "      <td>584.000000</td>\n",
              "      <td>32.000000</td>\n",
              "      <td>3.000000</td>\n",
              "      <td>0.000000e+00</td>\n",
              "      <td>1.000000</td>\n",
              "      <td>0.00000</td>\n",
              "      <td>0.000000</td>\n",
              "      <td>3.336751e+09</td>\n",
              "      <td>0.000000</td>\n",
              "    </tr>\n",
              "    <tr>\n",
              "      <th>50%</th>\n",
              "      <td>5000.50000</td>\n",
              "      <td>1.569074e+07</td>\n",
              "      <td>652.000000</td>\n",
              "      <td>37.000000</td>\n",
              "      <td>5.000000</td>\n",
              "      <td>8.668510e+09</td>\n",
              "      <td>1.000000</td>\n",
              "      <td>1.00000</td>\n",
              "      <td>1.000000</td>\n",
              "      <td>8.890572e+09</td>\n",
              "      <td>0.000000</td>\n",
              "    </tr>\n",
              "    <tr>\n",
              "      <th>75%</th>\n",
              "      <td>7500.25000</td>\n",
              "      <td>1.575323e+07</td>\n",
              "      <td>718.000000</td>\n",
              "      <td>44.000000</td>\n",
              "      <td>7.000000</td>\n",
              "      <td>1.246215e+10</td>\n",
              "      <td>2.000000</td>\n",
              "      <td>1.00000</td>\n",
              "      <td>1.000000</td>\n",
              "      <td>1.439529e+10</td>\n",
              "      <td>0.000000</td>\n",
              "    </tr>\n",
              "    <tr>\n",
              "      <th>max</th>\n",
              "      <td>10000.00000</td>\n",
              "      <td>1.581569e+07</td>\n",
              "      <td>850.000000</td>\n",
              "      <td>92.000000</td>\n",
              "      <td>10.000000</td>\n",
              "      <td>2.508981e+10</td>\n",
              "      <td>4.000000</td>\n",
              "      <td>1.00000</td>\n",
              "      <td>1.000000</td>\n",
              "      <td>1.999925e+10</td>\n",
              "      <td>1.000000</td>\n",
              "    </tr>\n",
              "  </tbody>\n",
              "</table>\n",
              "</div>"
            ],
            "text/plain": [
              "             Nomer    IDKostumer  ...  PerkiraanPendapatan  TutupRekening\n",
              "count  10000.00000  1.000000e+04  ...         1.000000e+04   10000.000000\n",
              "mean    5000.50000  1.569094e+07  ...         9.089385e+09       0.203700\n",
              "std     2886.89568  7.193619e+04  ...         6.128208e+09       0.402769\n",
              "min        1.00000  1.556570e+07  ...         5.230000e+05       0.000000\n",
              "25%     2500.75000  1.562853e+07  ...         3.336751e+09       0.000000\n",
              "50%     5000.50000  1.569074e+07  ...         8.890572e+09       0.000000\n",
              "75%     7500.25000  1.575323e+07  ...         1.439529e+10       0.000000\n",
              "max    10000.00000  1.581569e+07  ...         1.999925e+10       1.000000\n",
              "\n",
              "[8 rows x 11 columns]"
            ]
          },
          "metadata": {
            "tags": []
          },
          "execution_count": 6
        }
      ]
    },
    {
      "cell_type": "code",
      "metadata": {
        "colab": {
          "base_uri": "https://localhost:8080/"
        },
        "id": "NKvcCHk9i1PK",
        "outputId": "f4712fe0-ef80-4929-bdce-432f2113ab85"
      },
      "source": [
        "# Memeriksa tipe data dan nilai null\r\n",
        "dataset.info()"
      ],
      "execution_count": 7,
      "outputs": [
        {
          "output_type": "stream",
          "text": [
            "<class 'pandas.core.frame.DataFrame'>\n",
            "RangeIndex: 10000 entries, 0 to 9999\n",
            "Data columns (total 14 columns):\n",
            " #   Column               Non-Null Count  Dtype \n",
            "---  ------               --------------  ----- \n",
            " 0   Nomer                10000 non-null  int64 \n",
            " 1   IDKostumer           10000 non-null  int64 \n",
            " 2   Nama                 10000 non-null  object\n",
            " 3   NilaiKredit          10000 non-null  int64 \n",
            " 4   Provinsi             10000 non-null  object\n",
            " 5   JenisKelamin         10000 non-null  object\n",
            " 6   Umur                 10000 non-null  int64 \n",
            " 7   tenor                10000 non-null  int64 \n",
            " 8   saldo                10000 non-null  int64 \n",
            " 9   jumlahProduk         10000 non-null  int64 \n",
            " 10  PunyaKartuKredit     10000 non-null  int64 \n",
            " 11  NasabahAktif         10000 non-null  int64 \n",
            " 12  PerkiraanPendapatan  10000 non-null  int64 \n",
            " 13  TutupRekening        10000 non-null  int64 \n",
            "dtypes: int64(11), object(3)\n",
            "memory usage: 1.1+ MB\n"
          ],
          "name": "stdout"
        }
      ]
    },
    {
      "cell_type": "code",
      "metadata": {
        "id": "Rv809U43icrt"
      },
      "source": [
        "# Mengabaikan 3 kolom pertama dan kolom terakhir, karena bukan fitur yang berguna.\r\n",
        "# Indek dimulai dari 0.\r\n",
        "x = dataset.iloc[:, 3:-1].values\r\n",
        "\r\n",
        "# ambil kolom terakhir untuk mendapatkan sebagai nilai penentu(kelas tutup rekening / ada rekening).\r\n",
        "# Just get the last column of dataset for the dependent variable.\r\n",
        "y = dataset.iloc[:, -1].values"
      ],
      "execution_count": 8,
      "outputs": []
    },
    {
      "cell_type": "code",
      "metadata": {
        "id": "TXXQFllPECxy",
        "colab": {
          "base_uri": "https://localhost:8080/"
        },
        "outputId": "21115cec-36f1-407e-f687-3b33052c409a"
      },
      "source": [
        "print(x)"
      ],
      "execution_count": 9,
      "outputs": [
        {
          "output_type": "stream",
          "text": [
            "[[619 'DKI Jakarta' 'Laki-Laki' ... 1 1 10134888000]\n",
            " [608 'Jawa Barat' 'Laki-Laki' ... 0 1 11254258000]\n",
            " [502 'DKI Jakarta' 'Laki-Laki' ... 1 0 11393157000]\n",
            " ...\n",
            " [709 'DKI Jakarta' 'Perempuan' ... 0 1 4208558000]\n",
            " [772 'Jawa Tengah' 'Laki-Laki' ... 1 0 9288852000]\n",
            " [792 'DKI Jakarta' 'Perempuan' ... 1 0 3819078000]]\n"
          ],
          "name": "stdout"
        }
      ]
    },
    {
      "cell_type": "code",
      "metadata": {
        "id": "KqKsJakuEL9x",
        "colab": {
          "base_uri": "https://localhost:8080/"
        },
        "outputId": "f2037568-c1ea-484b-a0f0-ab0e0f181dfb"
      },
      "source": [
        "print(y)"
      ],
      "execution_count": 10,
      "outputs": [
        {
          "output_type": "stream",
          "text": [
            "[1 0 1 ... 1 1 0]\n"
          ],
          "name": "stdout"
        }
      ]
    },
    {
      "cell_type": "markdown",
      "metadata": {
        "id": "N6bQ0UgSU-NJ"
      },
      "source": [
        "### Mengkodekan kategori data"
      ]
    },
    {
      "cell_type": "markdown",
      "metadata": {
        "id": "le5MJreAbW52"
      },
      "source": [
        "Melabeli kode kolom \"JenisKelamin\" "
      ]
    },
    {
      "cell_type": "code",
      "metadata": {
        "id": "a-xAlk2SFySc"
      },
      "source": [
        "from sklearn.preprocessing import LabelEncoder\n",
        "le = LabelEncoder()\n",
        "# Ambil semua baris untuk kolom ke-2 dan dikodekan.\n",
        "x[:, 2] = le.fit_transform(x[:, 2])"
      ],
      "execution_count": 11,
      "outputs": []
    },
    {
      "cell_type": "code",
      "metadata": {
        "id": "O5lp8JYcGB-9",
        "colab": {
          "base_uri": "https://localhost:8080/"
        },
        "outputId": "2a206ab5-468b-4384-90da-2ed98d4eb146"
      },
      "source": [
        "print(x)"
      ],
      "execution_count": 12,
      "outputs": [
        {
          "output_type": "stream",
          "text": [
            "[[619 'DKI Jakarta' 0 ... 1 1 10134888000]\n",
            " [608 'Jawa Barat' 0 ... 0 1 11254258000]\n",
            " [502 'DKI Jakarta' 0 ... 1 0 11393157000]\n",
            " ...\n",
            " [709 'DKI Jakarta' 1 ... 0 1 4208558000]\n",
            " [772 'Jawa Tengah' 0 ... 1 0 9288852000]\n",
            " [792 'DKI Jakarta' 1 ... 1 0 3819078000]]\n"
          ],
          "name": "stdout"
        }
      ]
    },
    {
      "cell_type": "markdown",
      "metadata": {
        "id": "CUxGZezpbMcb"
      },
      "source": [
        "One Hot Encoding Kolom \"Provinsi\" "
      ]
    },
    {
      "cell_type": "code",
      "metadata": {
        "id": "xB5DhfbFGOa1"
      },
      "source": [
        "# dibuatkan one hot coding untuk tempat provinsi karena hal tersebut tidak berhubungan dengan mereka sendiri seperti halnya jenis kelamin.\n",
        "from sklearn.compose import ColumnTransformer\n",
        "from sklearn.preprocessing import OneHotEncoder\n",
        "ct = ColumnTransformer(transformers=[('encoder', OneHotEncoder(), [1])], remainder='passthrough')\n",
        "x = np.array(ct.fit_transform(x))"
      ],
      "execution_count": 13,
      "outputs": []
    },
    {
      "cell_type": "code",
      "metadata": {
        "id": "uULuNtHlGx6Z",
        "colab": {
          "base_uri": "https://localhost:8080/"
        },
        "outputId": "2c666866-ba97-4397-aad3-71c0b68852f2"
      },
      "source": [
        "print (x)"
      ],
      "execution_count": 14,
      "outputs": [
        {
          "output_type": "stream",
          "text": [
            "[[1.0 0.0 0.0 ... 1 1 10134888000]\n",
            " [0.0 1.0 0.0 ... 0 1 11254258000]\n",
            " [1.0 0.0 0.0 ... 1 0 11393157000]\n",
            " ...\n",
            " [1.0 0.0 0.0 ... 0 1 4208558000]\n",
            " [0.0 0.0 1.0 ... 1 0 9288852000]\n",
            " [1.0 0.0 0.0 ... 1 0 3819078000]]\n"
          ],
          "name": "stdout"
        }
      ]
    },
    {
      "cell_type": "markdown",
      "metadata": {
        "id": "vHol938cW8zd"
      },
      "source": [
        "### Membagi dataset menjadi data ajar dan data tes"
      ]
    },
    {
      "cell_type": "code",
      "metadata": {
        "id": "Kvh-Pvd0HQBE"
      },
      "source": [
        "from sklearn.model_selection import train_test_split\n",
        "X_train, X_test, y_train, y_test = train_test_split(x, y, test_size = 0.2, random_state = 1)"
      ],
      "execution_count": 15,
      "outputs": []
    },
    {
      "cell_type": "markdown",
      "metadata": {
        "id": "RE_FcHyfV3TQ"
      },
      "source": [
        "### Skalar Fitur"
      ]
    },
    {
      "cell_type": "code",
      "metadata": {
        "id": "yNnAKk-ZHjtG"
      },
      "source": [
        "# membuat skalar fitur untuk semua fitur yang ada dalam data ajar dan tes.\n",
        "from sklearn.preprocessing import StandardScaler\n",
        "sc = StandardScaler()\n",
        "# Penyesuaian Skalar hanya pada data ajar untuk mencegah kebocoran informasi.\n",
        "X_train = sc.fit_transform(X_train)\n",
        "X_test = sc.transform(X_test)"
      ],
      "execution_count": 16,
      "outputs": []
    },
    {
      "cell_type": "markdown",
      "metadata": {
        "id": "-zfEzkRVXIwF"
      },
      "source": [
        "## Bagian 2 - Membangun ANN"
      ]
    },
    {
      "cell_type": "markdown",
      "metadata": {
        "id": "KvdeScabXtlB"
      },
      "source": [
        "### Penyiapkan ANN"
      ]
    },
    {
      "cell_type": "code",
      "metadata": {
        "id": "KbuRWuZHJfhH"
      },
      "source": [
        "# Membuat variabel yang mempresentasikan  ANN sebagai contoh dari kelas sekuensial yang menyiapkan ANN.\n",
        "ann = tf.keras.models.Sequential()"
      ],
      "execution_count": 17,
      "outputs": []
    },
    {
      "cell_type": "markdown",
      "metadata": {
        "id": "rP6urV6SX7kS"
      },
      "source": [
        "### Menambahkan layer masukan dan layer pertama tersembunyi"
      ]
    },
    {
      "cell_type": "code",
      "metadata": {
        "id": "a7jOItvHJ-dm"
      },
      "source": [
        "# prosedur add() merupakan bagian kelas sekuensial.\n",
        "# penambahan keseluruhan layer yang terhubung (tersembunyi), yang menjari objek baru untuk kelas yang padat.\n",
        "# argumen dari dense() - \n",
        "# 'units' - merupakan penyebutan hyperparameters dan merupakan syaraf tersembunyi.\n",
        "# 'activation' - fungsi aktifasi dalam layer yang tersembunyi harus sebagai fungsi aktifasi penyearah.\n",
        "ann.add(tf.keras.layers.Dense(units=6, activation='relu')) # 'relu' - nama kode untuk fungsi aktifasi penyearah."
      ],
      "execution_count": 18,
      "outputs": []
    },
    {
      "cell_type": "markdown",
      "metadata": {
        "id": "BELWAc_8YJze"
      },
      "source": [
        "### Menambahkan layar tersembunyi kedua"
      ]
    },
    {
      "cell_type": "code",
      "metadata": {
        "id": "OyasTMIPLyDv"
      },
      "source": [
        "ann.add(tf.keras.layers.Dense(units=6, activation='relu')) "
      ],
      "execution_count": 19,
      "outputs": []
    },
    {
      "cell_type": "markdown",
      "metadata": {
        "id": "OyNEe6RXYcU4"
      },
      "source": [
        "### Menambahkan layer keluaran"
      ]
    },
    {
      "cell_type": "code",
      "metadata": {
        "id": "Rzk_uINVMErN"
      },
      "source": [
        "# Sebagaimana Layer Keluaran merupakan suatu binari yang hanya 1 syaraf untuk dicocokan dengan layer keluaran, sehingga 'units' = 1\n",
        "# dibutuhkan fungsi aktifasi sigmoid, karena hal ini memberikan prediksi sebagaimana peluang probalilitasnya.# jika akan memprediksi variabel kategori, maka activation = 'sigmax'\n",
        "ann.add(tf.keras.layers.Dense(units=1, activation='sigmoid')) "
      ],
      "execution_count": 20,
      "outputs": []
    },
    {
      "cell_type": "markdown",
      "metadata": {
        "id": "JT4u2S1_Y4WG"
      },
      "source": [
        "## Bagian 3 - Pelatihan ANN"
      ]
    },
    {
      "cell_type": "markdown",
      "metadata": {
        "id": "8GWlJChhY_ZI"
      },
      "source": [
        "### Mengkompilasi ANN"
      ]
    },
    {
      "cell_type": "code",
      "metadata": {
        "id": "CQ8W_gW-NpeR"
      },
      "source": [
        "# Argumen - \n",
        "# 'optimizer' - dipilih optimasi 'adam' karena dapat memberikan performa penurunan gradien stokastik. \n",
        "#  Penurunan gradien stokastik akan mengoptimalkan bobot untuk meminimalkan kerugian antara nilai aktual dan prediksi.\n",
        "# 'loss' - Saat dilakukan klasifikasi biner dalam memprediksi variabel biner gunakan 'binary_crossentropy' dan \n",
        "#  jika memiliki variabel kategorikal untuk memprediksi digunakan 'categorical_crossentropy'\n",
        "# 'metrics' - \n",
        "ann.compile(optimizer='adam', loss='binary_crossentropy', metrics=['accuracy'])"
      ],
      "execution_count": 21,
      "outputs": []
    },
    {
      "cell_type": "markdown",
      "metadata": {
        "id": "0QR_G5u7ZLSM"
      },
      "source": [
        "### Pelatihan ANN pada data ajar"
      ]
    },
    {
      "cell_type": "code",
      "metadata": {
        "id": "hMm4DQK_QZHP",
        "colab": {
          "base_uri": "https://localhost:8080/"
        },
        "outputId": "609e73a9-2bfc-4a82-e1b2-ccb9897777fe"
      },
      "source": [
        "# Pembelajaran batch, ukuran batch default untuk dibandingkan dengan hasil aktual = 32\n",
        "ann.fit(X_train, y_train, batch_size=32, epochs=100)\n",
        "# Seperti yang bisa dilihat, akurasi berkumpul di sekitar 0,86 di sekitar epoch = 20, jadi tidak dibutuhkan sampai 100 epoch."
      ],
      "execution_count": 22,
      "outputs": [
        {
          "output_type": "stream",
          "text": [
            "Epoch 1/100\n",
            "250/250 [==============================] - 2s 2ms/step - loss: 0.9497 - accuracy: 0.3609\n",
            "Epoch 2/100\n",
            "250/250 [==============================] - 0s 2ms/step - loss: 0.5244 - accuracy: 0.7914\n",
            "Epoch 3/100\n",
            "250/250 [==============================] - 0s 2ms/step - loss: 0.4683 - accuracy: 0.7978\n",
            "Epoch 4/100\n",
            "250/250 [==============================] - 0s 2ms/step - loss: 0.4455 - accuracy: 0.7997\n",
            "Epoch 5/100\n",
            "250/250 [==============================] - 0s 2ms/step - loss: 0.4228 - accuracy: 0.8056\n",
            "Epoch 6/100\n",
            "250/250 [==============================] - 0s 2ms/step - loss: 0.4182 - accuracy: 0.8091\n",
            "Epoch 7/100\n",
            "250/250 [==============================] - 0s 2ms/step - loss: 0.3921 - accuracy: 0.8217\n",
            "Epoch 8/100\n",
            "250/250 [==============================] - 0s 2ms/step - loss: 0.3911 - accuracy: 0.8153\n",
            "Epoch 9/100\n",
            "250/250 [==============================] - 0s 2ms/step - loss: 0.3860 - accuracy: 0.8151\n",
            "Epoch 10/100\n",
            "250/250 [==============================] - 0s 2ms/step - loss: 0.3781 - accuracy: 0.8174\n",
            "Epoch 11/100\n",
            "250/250 [==============================] - 0s 2ms/step - loss: 0.3649 - accuracy: 0.8235\n",
            "Epoch 12/100\n",
            "250/250 [==============================] - 0s 2ms/step - loss: 0.3781 - accuracy: 0.8168\n",
            "Epoch 13/100\n",
            "250/250 [==============================] - 0s 2ms/step - loss: 0.3677 - accuracy: 0.8453\n",
            "Epoch 14/100\n",
            "250/250 [==============================] - 0s 2ms/step - loss: 0.3696 - accuracy: 0.8484\n",
            "Epoch 15/100\n",
            "250/250 [==============================] - 0s 2ms/step - loss: 0.3581 - accuracy: 0.8556\n",
            "Epoch 16/100\n",
            "250/250 [==============================] - 0s 2ms/step - loss: 0.3725 - accuracy: 0.8450\n",
            "Epoch 17/100\n",
            "250/250 [==============================] - 0s 2ms/step - loss: 0.3587 - accuracy: 0.8578\n",
            "Epoch 18/100\n",
            "250/250 [==============================] - 0s 2ms/step - loss: 0.3530 - accuracy: 0.8543\n",
            "Epoch 19/100\n",
            "250/250 [==============================] - 0s 2ms/step - loss: 0.3454 - accuracy: 0.8642\n",
            "Epoch 20/100\n",
            "250/250 [==============================] - 0s 2ms/step - loss: 0.3546 - accuracy: 0.8572\n",
            "Epoch 21/100\n",
            "250/250 [==============================] - 0s 2ms/step - loss: 0.3535 - accuracy: 0.8608\n",
            "Epoch 22/100\n",
            "250/250 [==============================] - 0s 2ms/step - loss: 0.3496 - accuracy: 0.8624\n",
            "Epoch 23/100\n",
            "250/250 [==============================] - 0s 2ms/step - loss: 0.3511 - accuracy: 0.8590\n",
            "Epoch 24/100\n",
            "250/250 [==============================] - 0s 2ms/step - loss: 0.3616 - accuracy: 0.8547\n",
            "Epoch 25/100\n",
            "250/250 [==============================] - 0s 2ms/step - loss: 0.3501 - accuracy: 0.8601\n",
            "Epoch 26/100\n",
            "250/250 [==============================] - 0s 2ms/step - loss: 0.3474 - accuracy: 0.8597\n",
            "Epoch 27/100\n",
            "250/250 [==============================] - 0s 2ms/step - loss: 0.3318 - accuracy: 0.8665\n",
            "Epoch 28/100\n",
            "250/250 [==============================] - 0s 2ms/step - loss: 0.3515 - accuracy: 0.8581\n",
            "Epoch 29/100\n",
            "250/250 [==============================] - 0s 2ms/step - loss: 0.3494 - accuracy: 0.8622\n",
            "Epoch 30/100\n",
            "250/250 [==============================] - 0s 2ms/step - loss: 0.3516 - accuracy: 0.8558\n",
            "Epoch 31/100\n",
            "250/250 [==============================] - 0s 2ms/step - loss: 0.3691 - accuracy: 0.8480\n",
            "Epoch 32/100\n",
            "250/250 [==============================] - 0s 2ms/step - loss: 0.3466 - accuracy: 0.8582\n",
            "Epoch 33/100\n",
            "250/250 [==============================] - 0s 2ms/step - loss: 0.3537 - accuracy: 0.8562\n",
            "Epoch 34/100\n",
            "250/250 [==============================] - 0s 2ms/step - loss: 0.3386 - accuracy: 0.8669\n",
            "Epoch 35/100\n",
            "250/250 [==============================] - 0s 2ms/step - loss: 0.3515 - accuracy: 0.8579\n",
            "Epoch 36/100\n",
            "250/250 [==============================] - 0s 2ms/step - loss: 0.3416 - accuracy: 0.8613\n",
            "Epoch 37/100\n",
            "250/250 [==============================] - 0s 2ms/step - loss: 0.3426 - accuracy: 0.8593\n",
            "Epoch 38/100\n",
            "250/250 [==============================] - 0s 2ms/step - loss: 0.3468 - accuracy: 0.8608\n",
            "Epoch 39/100\n",
            "250/250 [==============================] - 0s 2ms/step - loss: 0.3491 - accuracy: 0.8624\n",
            "Epoch 40/100\n",
            "250/250 [==============================] - 0s 2ms/step - loss: 0.3515 - accuracy: 0.8587\n",
            "Epoch 41/100\n",
            "250/250 [==============================] - 0s 2ms/step - loss: 0.3499 - accuracy: 0.8613\n",
            "Epoch 42/100\n",
            "250/250 [==============================] - 0s 2ms/step - loss: 0.3461 - accuracy: 0.8601\n",
            "Epoch 43/100\n",
            "250/250 [==============================] - 0s 2ms/step - loss: 0.3471 - accuracy: 0.8602\n",
            "Epoch 44/100\n",
            "250/250 [==============================] - 0s 2ms/step - loss: 0.3481 - accuracy: 0.8552\n",
            "Epoch 45/100\n",
            "250/250 [==============================] - 0s 2ms/step - loss: 0.3515 - accuracy: 0.8595\n",
            "Epoch 46/100\n",
            "250/250 [==============================] - 0s 2ms/step - loss: 0.3419 - accuracy: 0.8636\n",
            "Epoch 47/100\n",
            "250/250 [==============================] - 0s 2ms/step - loss: 0.3399 - accuracy: 0.8644\n",
            "Epoch 48/100\n",
            "250/250 [==============================] - 0s 2ms/step - loss: 0.3402 - accuracy: 0.8619\n",
            "Epoch 49/100\n",
            "250/250 [==============================] - 0s 2ms/step - loss: 0.3391 - accuracy: 0.8626\n",
            "Epoch 50/100\n",
            "250/250 [==============================] - 0s 2ms/step - loss: 0.3482 - accuracy: 0.8614\n",
            "Epoch 51/100\n",
            "250/250 [==============================] - 0s 2ms/step - loss: 0.3356 - accuracy: 0.8622\n",
            "Epoch 52/100\n",
            "250/250 [==============================] - 0s 2ms/step - loss: 0.3317 - accuracy: 0.8653\n",
            "Epoch 53/100\n",
            "250/250 [==============================] - 0s 2ms/step - loss: 0.3409 - accuracy: 0.8570\n",
            "Epoch 54/100\n",
            "250/250 [==============================] - 0s 2ms/step - loss: 0.3476 - accuracy: 0.8608\n",
            "Epoch 55/100\n",
            "250/250 [==============================] - 0s 2ms/step - loss: 0.3449 - accuracy: 0.8577\n",
            "Epoch 56/100\n",
            "250/250 [==============================] - 0s 2ms/step - loss: 0.3381 - accuracy: 0.8608\n",
            "Epoch 57/100\n",
            "250/250 [==============================] - 0s 2ms/step - loss: 0.3420 - accuracy: 0.8649\n",
            "Epoch 58/100\n",
            "250/250 [==============================] - 0s 2ms/step - loss: 0.3378 - accuracy: 0.8590\n",
            "Epoch 59/100\n",
            "250/250 [==============================] - 0s 2ms/step - loss: 0.3393 - accuracy: 0.8629\n",
            "Epoch 60/100\n",
            "250/250 [==============================] - 0s 2ms/step - loss: 0.3481 - accuracy: 0.8597\n",
            "Epoch 61/100\n",
            "250/250 [==============================] - 0s 2ms/step - loss: 0.3365 - accuracy: 0.8668\n",
            "Epoch 62/100\n",
            "250/250 [==============================] - 0s 2ms/step - loss: 0.3352 - accuracy: 0.8630\n",
            "Epoch 63/100\n",
            "250/250 [==============================] - 0s 2ms/step - loss: 0.3449 - accuracy: 0.8592\n",
            "Epoch 64/100\n",
            "250/250 [==============================] - 0s 2ms/step - loss: 0.3530 - accuracy: 0.8572\n",
            "Epoch 65/100\n",
            "250/250 [==============================] - 0s 2ms/step - loss: 0.3467 - accuracy: 0.8569\n",
            "Epoch 66/100\n",
            "250/250 [==============================] - 0s 2ms/step - loss: 0.3317 - accuracy: 0.8659\n",
            "Epoch 67/100\n",
            "250/250 [==============================] - 0s 2ms/step - loss: 0.3482 - accuracy: 0.8572\n",
            "Epoch 68/100\n",
            "250/250 [==============================] - 0s 2ms/step - loss: 0.3535 - accuracy: 0.8565\n",
            "Epoch 69/100\n",
            "250/250 [==============================] - 0s 2ms/step - loss: 0.3457 - accuracy: 0.8552\n",
            "Epoch 70/100\n",
            "250/250 [==============================] - 0s 2ms/step - loss: 0.3472 - accuracy: 0.8570\n",
            "Epoch 71/100\n",
            "250/250 [==============================] - 0s 2ms/step - loss: 0.3329 - accuracy: 0.8674\n",
            "Epoch 72/100\n",
            "250/250 [==============================] - 0s 2ms/step - loss: 0.3326 - accuracy: 0.8682\n",
            "Epoch 73/100\n",
            "250/250 [==============================] - 0s 2ms/step - loss: 0.3269 - accuracy: 0.8640\n",
            "Epoch 74/100\n",
            "250/250 [==============================] - 0s 2ms/step - loss: 0.3409 - accuracy: 0.8590\n",
            "Epoch 75/100\n",
            "250/250 [==============================] - 0s 2ms/step - loss: 0.3315 - accuracy: 0.8656\n",
            "Epoch 76/100\n",
            "250/250 [==============================] - 0s 2ms/step - loss: 0.3380 - accuracy: 0.8630\n",
            "Epoch 77/100\n",
            "250/250 [==============================] - 0s 2ms/step - loss: 0.3482 - accuracy: 0.8552\n",
            "Epoch 78/100\n",
            "250/250 [==============================] - 0s 2ms/step - loss: 0.3387 - accuracy: 0.8607\n",
            "Epoch 79/100\n",
            "250/250 [==============================] - 0s 2ms/step - loss: 0.3435 - accuracy: 0.8581\n",
            "Epoch 80/100\n",
            "250/250 [==============================] - 0s 2ms/step - loss: 0.3486 - accuracy: 0.8564\n",
            "Epoch 81/100\n",
            "250/250 [==============================] - 0s 2ms/step - loss: 0.3416 - accuracy: 0.8603\n",
            "Epoch 82/100\n",
            "250/250 [==============================] - 0s 2ms/step - loss: 0.3371 - accuracy: 0.8611\n",
            "Epoch 83/100\n",
            "250/250 [==============================] - 0s 2ms/step - loss: 0.3401 - accuracy: 0.8609\n",
            "Epoch 84/100\n",
            "250/250 [==============================] - 0s 2ms/step - loss: 0.3376 - accuracy: 0.8610\n",
            "Epoch 85/100\n",
            "250/250 [==============================] - 0s 2ms/step - loss: 0.3453 - accuracy: 0.8575\n",
            "Epoch 86/100\n",
            "250/250 [==============================] - 0s 2ms/step - loss: 0.3281 - accuracy: 0.8677\n",
            "Epoch 87/100\n",
            "250/250 [==============================] - 0s 2ms/step - loss: 0.3435 - accuracy: 0.8549\n",
            "Epoch 88/100\n",
            "250/250 [==============================] - 0s 2ms/step - loss: 0.3392 - accuracy: 0.8588\n",
            "Epoch 89/100\n",
            "250/250 [==============================] - 0s 2ms/step - loss: 0.3425 - accuracy: 0.8599\n",
            "Epoch 90/100\n",
            "250/250 [==============================] - 0s 2ms/step - loss: 0.3406 - accuracy: 0.8624\n",
            "Epoch 91/100\n",
            "250/250 [==============================] - 0s 2ms/step - loss: 0.3394 - accuracy: 0.8598\n",
            "Epoch 92/100\n",
            "250/250 [==============================] - 0s 2ms/step - loss: 0.3375 - accuracy: 0.8624\n",
            "Epoch 93/100\n",
            "250/250 [==============================] - 0s 2ms/step - loss: 0.3318 - accuracy: 0.8637\n",
            "Epoch 94/100\n",
            "250/250 [==============================] - 0s 2ms/step - loss: 0.3399 - accuracy: 0.8589\n",
            "Epoch 95/100\n",
            "250/250 [==============================] - 0s 2ms/step - loss: 0.3341 - accuracy: 0.8627\n",
            "Epoch 96/100\n",
            "250/250 [==============================] - 0s 2ms/step - loss: 0.3270 - accuracy: 0.8659\n",
            "Epoch 97/100\n",
            "250/250 [==============================] - 0s 2ms/step - loss: 0.3365 - accuracy: 0.8602\n",
            "Epoch 98/100\n",
            "250/250 [==============================] - 0s 2ms/step - loss: 0.3395 - accuracy: 0.8627\n",
            "Epoch 99/100\n",
            "250/250 [==============================] - 0s 2ms/step - loss: 0.3378 - accuracy: 0.8637\n",
            "Epoch 100/100\n",
            "250/250 [==============================] - 0s 2ms/step - loss: 0.3328 - accuracy: 0.8658\n"
          ],
          "name": "stdout"
        },
        {
          "output_type": "execute_result",
          "data": {
            "text/plain": [
              "<tensorflow.python.keras.callbacks.History at 0x7feaa0101710>"
            ]
          },
          "metadata": {
            "tags": []
          },
          "execution_count": 22
        }
      ]
    },
    {
      "cell_type": "markdown",
      "metadata": {
        "id": "tJj5k2MxZga3"
      },
      "source": [
        "## Bagian 4 - Membuat Prediksi dan mengevaluasi model"
      ]
    },
    {
      "cell_type": "markdown",
      "metadata": {
        "id": "84QFoqGYeXHL"
      },
      "source": [
        "### Memprediksi Hasil dari observasi tunggal"
      ]
    },
    {
      "cell_type": "markdown",
      "metadata": {
        "id": "CGRo3eacgDdC"
      },
      "source": [
        "Menggunakan model ANN ini untuk memprediksi apakah nasabah dengan informasi berikut akan menutup rekening : \n",
        "\n",
        "Provinsi: DKI Jakarta\n",
        "\n",
        "Nilai Kredit: 600\n",
        "\n",
        "Jenis Kelamin: Laki-Laki\n",
        "\n",
        "Umur: 40 years old\n",
        "\n",
        "Tenor: 3 years\n",
        "\n",
        "Saldo: \\$ 60000\n",
        "\n",
        "Jumlah Produk: 2\n",
        "\n",
        "Apakah punya kartu kredit? Yes\n",
        "\n",
        "nasabah aktif: Yes\n",
        "\n",
        "perkiraan pendapatan: \\$ 50000\n",
        "\n",
        "Jadi, haruskah diucapkan selamat tinggal kepada pelanggan tersebut?"
      ]
    },
    {
      "cell_type": "markdown",
      "metadata": {
        "id": "ZhU1LTgPg-kH"
      },
      "source": [
        "**Solution**"
      ]
    },
    {
      "cell_type": "code",
      "metadata": {
        "id": "qi6KZBiBSZon",
        "colab": {
          "base_uri": "https://localhost:8080/"
        },
        "outputId": "fd371e0a-5f4c-49dc-8439-989f02e4121a"
      },
      "source": [
        "# Sebagaimana digunakan fungsi sigmoid, diperoleh probabilitas nasabah ini tutup rekening :.\n",
        "print(ann.predict(sc.transform([[1, 0, 0, 600, 1, 40, 3, 60000, 2, 1, 1, 50000]])))"
      ],
      "execution_count": 23,
      "outputs": [
        {
          "output_type": "stream",
          "text": [
            "[[0.02290918]]\n"
          ],
          "name": "stdout"
        }
      ]
    },
    {
      "cell_type": "markdown",
      "metadata": {
        "id": "wGjx94g2n7OV"
      },
      "source": [
        "Namum, model ANN ini memprediksi nasabah tersebut masih memiliki rekening di bank!\n",
        "\n",
        "**Catatan Penting 1:** Perhatikan bahwa nilai fitur yang diinputkan dalam kurung siku pasangan ganda. karena metoda \"predict\" selalu mengharapkan array 2D array sebagai input. Dan menaruh nilai tersebut dalam kurung siku pasangan ganda membuat input menjadi array 2D.\n",
        "\n",
        "**Catatan Penting 2:** Perhatikan juga bahwa Provinsi \"DKI Jakarta\" tidak sebagai input string pada kolom tetapi sebagai \"1, 0, 0\" dalam 3 kolom pertama. Hal itu dikarenakan metoda prediksi mengharapkan nilai one-hot-encoded sebagai inputan, dan seperti yang terlihat pada baris pertama dari fitur matrik X, \"DKI Jakarta\" dikodekan sebagai \"1, 0, 0\". Dan selalu perhatikan untuk memasukan nilai ini dalam 3 kolom pertama, karena variabel buatan selalu dibuat dalam kolom pertama."
      ]
    },
    {
      "cell_type": "markdown",
      "metadata": {
        "id": "u7yx47jPZt11"
      },
      "source": [
        "### Memprediksi data tes"
      ]
    },
    {
      "cell_type": "code",
      "metadata": {
        "id": "gH2886DaWr3G",
        "colab": {
          "base_uri": "https://localhost:8080/"
        },
        "outputId": "e72a4ae8-e8e4-46d9-fa9f-1199117d8055"
      },
      "source": [
        "# Ini merupakan probabilitas dari prediksi\n",
        "y_predicted = ann.predict(X_test)\n",
        "# Konversi probabilitas prediksi menjadi hasil binari\n",
        "y_predicted = (y_predicted > 0.5)\n",
        "print(np.concatenate((y_predicted.reshape(len(y_predicted),1), y_test.reshape(len(y_test),1)),1))"
      ],
      "execution_count": 24,
      "outputs": [
        {
          "output_type": "stream",
          "text": [
            "[[0 0]\n",
            " [0 0]\n",
            " [0 0]\n",
            " ...\n",
            " [0 0]\n",
            " [0 0]\n",
            " [0 0]]\n"
          ],
          "name": "stdout"
        }
      ]
    },
    {
      "cell_type": "markdown",
      "metadata": {
        "id": "o0oyfLWoaEGw"
      },
      "source": [
        "### Membuat Confusion Matrix"
      ]
    },
    {
      "cell_type": "code",
      "metadata": {
        "id": "bfi18WdedDwO"
      },
      "source": [
        "from sklearn.metrics import (accuracy_score, f1_score,average_precision_score, confusion_matrix,\n",
        "                             average_precision_score, precision_score, recall_score, roc_auc_score, )\n",
        "cm = confusion_matrix(y_test, y_predicted)"
      ],
      "execution_count": 28,
      "outputs": []
    },
    {
      "cell_type": "code",
      "metadata": {
        "id": "-FxijXpYtKJ-",
        "outputId": "271764aa-b520-4041-d8b7-b0755ec759d0",
        "colab": {
          "base_uri": "https://localhost:8080/"
        }
      },
      "source": [
        "print(\"AKURASI:\", accuracy_score(y_test, y_predicted))\r\n",
        "print(\"PRESISI:\", precision_score(y_test, y_predicted))\r\n",
        "print(\"Recall:\", recall_score(y_test, y_predicted))\r\n",
        "print(\"F1:\", f1_score(y_test, y_predicted))\r\n",
        "print(\"Area under precision (AUC) Recall:\", average_precision_score(y_test, y_predicted))"
      ],
      "execution_count": 29,
      "outputs": [
        {
          "output_type": "stream",
          "text": [
            "AKURASI: 0.87\n",
            "PRESISI: 0.7924528301886793\n",
            "Recall: 0.5060240963855421\n",
            "F1: 0.6176470588235294\n",
            "Area under precision (AUC) Recall: 0.5035002273243919\n"
          ],
          "name": "stdout"
        }
      ]
    },
    {
      "cell_type": "code",
      "metadata": {
        "id": "cc1e7R1btcqn",
        "outputId": "bea8646e-4291-45fc-8415-081255331591",
        "colab": {
          "base_uri": "https://localhost:8080/"
        }
      },
      "source": [
        "print(cm)\r\n",
        "print(\"Sehingga,\")\r\n",
        "print(\"Total Prediksi benar bahwa nasabah masih punya rekening =\", cm[0][0])\r\n",
        "print(\"Total Prediksi benar bahwa nasabah tutup rekening =\", cm[1][1])\r\n",
        "print(\"Total Prediksi salah bahwa nasabah masih punya rekening =\", cm[1][0])\r\n",
        "print(\"Total Prediksi salah bahwa nasabah tutup rekening =\", cm[0][1])"
      ],
      "execution_count": 30,
      "outputs": [
        {
          "output_type": "stream",
          "text": [
            "[[1530   55]\n",
            " [ 205  210]]\n",
            "Sehingga,\n",
            "Total Prediksi benar bahwa nasabah masih punya rekening = 1530\n",
            "Total Prediksi benar bahwa nasabah tutup rekening = 210\n",
            "Total Prediksi salah bahwa nasabah masih punya rekening = 205\n",
            "Total Prediksi salah bahwa nasabah tutup rekening = 55\n"
          ],
          "name": "stdout"
        }
      ]
    }
  ]
}