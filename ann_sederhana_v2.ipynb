{
  "nbformat": 4,
  "nbformat_minor": 0,
  "metadata": {
    "colab": {
      "name": "ann_sederhana_v2.ipynb",
      "provenance": [],
      "collapsed_sections": [],
      "toc_visible": true,
      "include_colab_link": true
    },
    "kernelspec": {
      "name": "python3",
      "display_name": "Python 3"
    }
  },
  "cells": [
    {
      "cell_type": "markdown",
      "metadata": {
        "id": "view-in-github",
        "colab_type": "text"
      },
      "source": [
        "<a href=\"https://colab.research.google.com/github/naufalperdana/ANN_Prediksi_Tutup_Rekening_Bank/blob/main/ann_sederhana_v2.ipynb" target=\"_parent\"><img src=\"https://colab.research.google.com/content/DataNasabah.csv\" alt=\"Open In Colab\"/></a>"
      ]
    },
    {
      "cell_type": "markdown",
      "metadata": {
        "id": "lP6JLo1tGNBg",
        "colab_type": "text"
      },
      "source": [
        "# Pendeteksian Tutup Rekening Nasabah Bank  (Churn)"
      ]
    },
    {
      "cell_type": "markdown",
      "metadata": {
        "id": "1E0Q3aoKUCRX",
        "colab_type": "text"
      },
      "source": [
        "## Bagian 1 - Data Preprocessing"
      ]
    },
    {
      "cell_type": "markdown",
      "metadata": {
        "id": "gWZyYmS_UE_L",
        "colab_type": "text"
      },
      "source": [
        "### Importing the libraries"
      ]
    },
    {
      "cell_type": "code",
      "metadata": {
        "id": "M6pGKClMAbkw",
        "colab_type": "code",
        "colab": {}
      },
      "source": [
        "import numpy as np\n",
        "import tensorflow as tf\n",
        "import pandas as pd"
      ],
      "execution_count": null,
      "outputs": []
    },
    {
      "cell_type": "markdown",
      "metadata": {
        "id": "eWJobTnOA2On",
        "colab_type": "text"
      },
      "source": [
        "Mengetahui Versi of Tensorflow"
      ]
    },
    {
      "cell_type": "code",
      "metadata": {
        "id": "IE55IaueAwaP",
        "colab_type": "code",
        "colab": {
          "base_uri": "https://localhost:8080/",
          "height": 35
        },
        "outputId": "da05d381-a07a-4f7b-dd53-db4163f1627a"
      },
      "source": [
        "tf.__version__"
      ],
      "execution_count": null,
      "outputs": [
        {
          "output_type": "execute_result",
          "data": {
            "application/vnd.google.colaboratory.intrinsic+json": {
              "type": "string"
            },
            "text/plain": [
              "'2.3.0'"
            ]
          },
          "metadata": {
            "tags": []
          },
          "execution_count": 3
        }
      ]
    },
    {
      "cell_type": "markdown",
      "metadata": {
        "id": "dnui9kbGCmp1",
        "colab_type": "text"
      },
      "source": [
        "### Importing dataset\n"
      ]
    },
    {
      "cell_type": "code",
      "metadata": {
        "id": "yMPZ5fZ1C0l8",
        "colab_type": "code",
        "colab": {}
      },
      "source": [
        "dataset = pd.read_csv('DataNasabah.csv')\n",
		"# Mengabaikan 3 kolom pertama dan kolom terakhir, karena bukan fitur yang berguna.\n",
        "# Indek dimulai dari 0.\n",
        "x = dataset.iloc[:, 3:-1].values\n",
        "\n",
		"# ambil kolom terakhir untuk mendapatkan sebagai nilai penentu(kelas tutup rekening / ada rekening).\n",
        "# Just get the last column of dataset for the dependent variable.\n",
        "y = dataset.iloc[:, -1].values"
      ],
      "execution_count": 7,
      "outputs": []
    },
    {
      "cell_type": "code",
      "metadata": {
        "id": "TXXQFllPECxy",
        "colab_type": "code",
        "colab": {
          "base_uri": "https://localhost:8080/",
          "height": 136
        },
        "outputId": "dc721551-6caa-45dd-91e3-6dc11d958bd3"
      },
      "source": [
        "print(x)"
      ],
      "execution_count": 8,
      "outputs": [
        {
          "output_type": "stream",
          "text": [
            "[[619 'France' 'Female' ... 1 1 101348.88]\n",
            " [608 'Spain' 'Female' ... 0 1 112542.58]\n",
            " [502 'France' 'Female' ... 1 0 113931.57]\n",
            " ...\n",
            " [709 'France' 'Female' ... 0 1 42085.58]\n",
            " [772 'Germany' 'Male' ... 1 0 92888.52]\n",
            " [792 'France' 'Female' ... 1 0 38190.78]]\n"
          ],
          "name": "stdout"
        }
      ]
    },
    {
      "cell_type": "code",
      "metadata": {
        "id": "KqKsJakuEL9x",
        "colab_type": "code",
        "colab": {
          "base_uri": "https://localhost:8080/",
          "height": 34
        },
        "outputId": "8cf204a1-0b88-40ff-9c28-413ce0d1c91b"
      },
      "source": [
        "print(y)"
      ],
      "execution_count": 9,
      "outputs": [
        {
          "output_type": "stream",
          "text": [
            "[1 0 1 ... 1 1 0]\n"
          ],
          "name": "stdout"
        }
      ]
    },
    {
      "cell_type": "markdown",
      "metadata": {
        "id": "N6bQ0UgSU-NJ",
        "colab_type": "text"
      },
      "source": [
        "### Mengkodekan kategori data"
      ]
    },
    {
      "cell_type": "markdown",
      "metadata": {
        "id": "le5MJreAbW52",
        "colab_type": "text"
      },
      "source": [
        "Melabeli kode kolom \"JenisKelamin\" "
      ]
    },
    {
      "cell_type": "code",
      "metadata": {
        "id": "a-xAlk2SFySc",
        "colab_type": "code",
        "colab": {}
      },
      "source": [
        "from sklearn.preprocessing import LabelEncoder\n",
        "le = LabelEncoder()\n",
        "# Ambil semua baris untuk kolom ke-2 dan dikodekan.\n",
        "x[:, 2] = le.fit_transform(x[:, 2])"
      ],
      "execution_count": 10,
      "outputs": []
    },
    {
      "cell_type": "code",
      "metadata": {
        "id": "O5lp8JYcGB-9",
        "colab_type": "code",
        "colab": {
          "base_uri": "https://localhost:8080/",
          "height": 136
        },
        "outputId": "53d8f337-86e8-4ddc-d187-263f979014a2"
      },
      "source": [
        "print(x)"
      ],
      "execution_count": 11,
      "outputs": [
        {
          "output_type": "stream",
          "text": [
            "[[619 'France' 0 ... 1 1 101348.88]\n",
            " [608 'Spain' 0 ... 0 1 112542.58]\n",
            " [502 'France' 0 ... 1 0 113931.57]\n",
            " ...\n",
            " [709 'France' 0 ... 0 1 42085.58]\n",
            " [772 'Germany' 1 ... 1 0 92888.52]\n",
            " [792 'France' 0 ... 1 0 38190.78]]\n"
          ],
          "name": "stdout"
        }
      ]
    },
    {
      "cell_type": "markdown",
      "metadata": {
        "id": "CUxGZezpbMcb",
        "colab_type": "text"
      },
      "source": [
        "One Hot Encoding Kolom \"Provinsi\" "
      ]
    },
    {
      "cell_type": "code",
      "metadata": {
        "id": "xB5DhfbFGOa1",
        "colab_type": "code",
        "colab": {}
      },
      "source": [
		"# dibuatkan one hot coding untuk tempat provinsi karena hal tersebut tidak berhubungan dengan mereka sendiri seperti halnya jenis kelamin.\n",
        "from sklearn.compose import ColumnTransformer\n",
        "from sklearn.preprocessing import OneHotEncoder\n",
        "ct = ColumnTransformer(transformers=[('encoder', OneHotEncoder(), [1])], remainder='passthrough')\n",
        "x = np.array(ct.fit_transform(x))"
      ],
      "execution_count": 12,
      "outputs": []
    },
    {
      "cell_type": "code",
      "metadata": {
        "id": "uULuNtHlGx6Z",
        "colab_type": "code",
        "colab": {
          "base_uri": "https://localhost:8080/",
          "height": 136
        },
        "outputId": "eee1e77b-19ff-4f79-d50c-736a620df622"
      },
      "source": [
        "print (x)"
      ],
      "execution_count": 13,
      "outputs": [
        {
          "output_type": "stream",
          "text": [
            "[[1.0 0.0 0.0 ... 1 1 101348.88]\n",
            " [0.0 0.0 1.0 ... 0 1 112542.58]\n",
            " [1.0 0.0 0.0 ... 1 0 113931.57]\n",
            " ...\n",
            " [1.0 0.0 0.0 ... 0 1 42085.58]\n",
            " [0.0 1.0 0.0 ... 1 0 92888.52]\n",
            " [1.0 0.0 0.0 ... 1 0 38190.78]]\n"
          ],
          "name": "stdout"
        }
      ]
    },
    {
      "cell_type": "markdown",
      "metadata": {
        "id": "vHol938cW8zd",
        "colab_type": "text"
      },
      "source": [
        "### Membagi dataset menjadi data ajar dan data tes"
      ]
    },
    {
      "cell_type": "code",
      "metadata": {
        "id": "Kvh-Pvd0HQBE",
        "colab_type": "code",
        "colab": {}
      },
      "source": [
        "from sklearn.model_selection import train_test_split\n",
        "X_train, X_test, y_train, y_test = train_test_split(x, y, test_size = 0.2, random_state = 1)"
      ],
      "execution_count": 14,
      "outputs": []
    },
    {
      "cell_type": "markdown",
      "metadata": {
        "id": "RE_FcHyfV3TQ",
        "colab_type": "text"
      },
      "source": [
        "### Skalar Fitur"
      ]
    },
    {
      "cell_type": "code",
      "metadata": {
        "id": "yNnAKk-ZHjtG",
        "colab_type": "code",
        "colab": {}
      },
      "source": [
        "# membuat skalar fitur untuk semua fitur yang ada dalam data ajar dan tes.\n",
        "from sklearn.preprocessing import StandardScaler\n",
        "sc = StandardScaler()\n",
        "# Penyesuaian Skalar hanya pada data ajar untuk mencegah kebocoran informasi.\n",
        "X_train = sc.fit_transform(X_train)\n",
        "X_test = sc.transform(X_test)"
      ],
      "execution_count": 15,
      "outputs": []
    },
    {
      "cell_type": "markdown",
      "metadata": {
        "id": "-zfEzkRVXIwF",
        "colab_type": "text"
      },
      "source": [
        "## Bagian 2 - Membangun ANN"
      ]
    },
    {
      "cell_type": "markdown",
      "metadata": {
        "id": "KvdeScabXtlB",
        "colab_type": "text"
      },
      "source": [
        "### Penyiapkan ANN"
      ]
    },
    {
      "cell_type": "code",
      "metadata": {
        "id": "KbuRWuZHJfhH",
        "colab_type": "code",
        "colab": {}
      },
      "source": [
        "# Membuat variabel yang mempresentasikan  ANN sebagai contoh dari kelas sekuensial yang menyiapkan ANN.\n",
        "ann = tf.keras.models.Sequential()"
      ],
      "execution_count": 16,
      "outputs": []
    },
    {
      "cell_type": "markdown",
      "metadata": {
        "id": "rP6urV6SX7kS",
        "colab_type": "text"
      },
      "source": [
        "### Menambahkan layer masukan dan layer pertama tersembunyi"
      ]
    },
    {
      "cell_type": "code",
      "metadata": {
        "id": "a7jOItvHJ-dm",
        "colab_type": "code",
        "colab": {}
      },
      "source": [
		"# prosedur add() merupakan bagian kelas sekuensial.\n",
        "# penambahan keseluruhan layer yang terhubung (tersembunyi), yang menjari objek baru untuk kelas yang padat.\n",
        "# argumen dari dense() - \n",
        "# 'units' - merupakan penyebutan hyperparameters dan merupakan syaraf tersembunyi.\n",
        "# 'activation' - fungsi aktifasi dalam layer yang tersembunyi harus sebagai fungsi aktifasi penyearah.\n",
        "ann.add(tf.keras.layers.Dense(units=6, activation='relu')) # 'relu' - nama kode untuk fungsi aktifasi penyearah."
      ],
      "execution_count": 17,
      "outputs": []
    },
    {
      "cell_type": "markdown",
      "metadata": {
        "id": "BELWAc_8YJze",
        "colab_type": "text"
      },
      "source": [
        "### Menambahkan layar tersembunyi kedua"
      ]
    },
    {
      "cell_type": "code",
      "metadata": {
        "id": "OyasTMIPLyDv",
        "colab_type": "code",
        "colab": {}
      },
      "source": [
        "ann.add(tf.keras.layers.Dense(units=6, activation='relu')) "
      ],
      "execution_count": 18,
      "outputs": []
    },
    {
      "cell_type": "markdown",
      "metadata": {
        "id": "OyNEe6RXYcU4",
        "colab_type": "text"
      },
      "source": [
        "### Menambahkan layer keluaran"
      ]
    },
    {
      "cell_type": "code",
      "metadata": {
        "id": "Rzk_uINVMErN",
        "colab_type": "code",
        "colab": {}
      },
      "source": [
        "# Sebagaimana Layer Keluaran merupakan suatu binari yang hanya 1 syaraf untuk dicocokan dengan layer keluaran, sehingga 'units' = 1\n",
		"# dibutuhkan fungsi aktifasi sigmoid, karena hal ini memberikan prediksi sebagaimana peluang probalilitasnya.",
        "# jika akan memprediksi variabel kategori, maka activation = 'sigmax'\n",
        "ann.add(tf.keras.layers.Dense(units=1, activation='sigmoid')) "
      ],
      "execution_count": 19,
      "outputs": []
    },
    {
      "cell_type": "markdown",
      "metadata": {
        "id": "JT4u2S1_Y4WG",
        "colab_type": "text"
      },
      "source": [
        "## Bagian 3 - Pelatihan ANN"
      ]
    },
    {
      "cell_type": "markdown",
      "metadata": {
        "id": "8GWlJChhY_ZI",
        "colab_type": "text"
      },
      "source": [
        "### Mengkompilasi ANN"
      ]
    },
    {
      "cell_type": "code",
      "metadata": {
        "id": "CQ8W_gW-NpeR",
        "colab_type": "code",
        "colab": {}
      },
      "source": [
        "# Argumen - \n",
        "# 'optimizer' - dipilih optimasi 'adam' karena dapat memberikan performa penurunan gradien stokastik. \n",
        "#  Penurunan gradien stokastik akan mengoptimalkan bobot untuk meminimalkan kerugian antara nilai aktual dan prediksi.\n",
        "# 'loss' - Saat dilakukan klasifikasi biner dalam memprediksi variabel biner gunakan 'binary_crossentropy' dan \n",
        "#  jika memiliki variabel kategorikal untuk memprediksi digunakan 'categorical_crossentropy'\n",
        "# 'metrics' - \n",
        "ann.compile(optimizer='adam', loss='binary_crossentropy', metrics=['accuracy'])"
      ],
      "execution_count": 20,
      "outputs": []
    },
    {
      "cell_type": "markdown",
      "metadata": {
        "id": "0QR_G5u7ZLSM",
        "colab_type": "text"
      },
      "source": [
        "### Pelatihan ANN pada data ajar"
      ]
    },
    {
      "cell_type": "code",
      "metadata": {
        "id": "hMm4DQK_QZHP",
        "colab_type": "code",
        "colab": {
          "base_uri": "https://localhost:8080/",
          "height": 1000
        },
        "outputId": "5a2e5a5e-49dc-4ac7-dfff-53941f2b0192"
      },
      "source": [
        "# Pembelajaran batch, ukuran batch default untuk dibandingkan dengan hasil aktual = 32\n",
        "ann.fit(X_train, y_train, batch_size=32, epochs=100)\n",
        "# Seperti yang bisa dilihat, akurasi berkumpul di sekitar 0,86 di sekitar epoch = 20, jadi tidak dibutuhkan sampai 100 epoch."
      ],
      "execution_count": 21,
      "outputs": [
        {
          "output_type": "stream",
          "text": [
            "Epoch 1/100\n",
            "250/250 [==============================] - 0s 1ms/step - loss: 0.5126 - accuracy: 0.7956\n",
            "Epoch 2/100\n",
            "250/250 [==============================] - 0s 1ms/step - loss: 0.4506 - accuracy: 0.7972\n",
            "Epoch 3/100\n",
            "250/250 [==============================] - 0s 1ms/step - loss: 0.4380 - accuracy: 0.7972\n",
            "Epoch 4/100\n",
            "250/250 [==============================] - 0s 1ms/step - loss: 0.4331 - accuracy: 0.7972\n",
            "Epoch 5/100\n",
            "250/250 [==============================] - 0s 1ms/step - loss: 0.4301 - accuracy: 0.7972\n",
            "Epoch 6/100\n",
            "250/250 [==============================] - 0s 1ms/step - loss: 0.4281 - accuracy: 0.7972\n",
            "Epoch 7/100\n",
            "250/250 [==============================] - 0s 1ms/step - loss: 0.4262 - accuracy: 0.7972\n",
            "Epoch 8/100\n",
            "250/250 [==============================] - 0s 1ms/step - loss: 0.4248 - accuracy: 0.7972\n",
            "Epoch 9/100\n",
            "250/250 [==============================] - 0s 1ms/step - loss: 0.4230 - accuracy: 0.7972\n",
            "Epoch 10/100\n",
            "250/250 [==============================] - 0s 1ms/step - loss: 0.4211 - accuracy: 0.8005\n",
            "Epoch 11/100\n",
            "250/250 [==============================] - 0s 1ms/step - loss: 0.4191 - accuracy: 0.8065\n",
            "Epoch 12/100\n",
            "250/250 [==============================] - 0s 1ms/step - loss: 0.4172 - accuracy: 0.8044\n",
            "Epoch 13/100\n",
            "250/250 [==============================] - 0s 1ms/step - loss: 0.4150 - accuracy: 0.8060\n",
            "Epoch 14/100\n",
            "250/250 [==============================] - 0s 1ms/step - loss: 0.4122 - accuracy: 0.8054\n",
            "Epoch 15/100\n",
            "250/250 [==============================] - 0s 993us/step - loss: 0.4077 - accuracy: 0.8073\n",
            "Epoch 16/100\n",
            "250/250 [==============================] - 0s 985us/step - loss: 0.4021 - accuracy: 0.8146\n",
            "Epoch 17/100\n",
            "250/250 [==============================] - 0s 1ms/step - loss: 0.3961 - accuracy: 0.8254\n",
            "Epoch 18/100\n",
            "250/250 [==============================] - 0s 1ms/step - loss: 0.3908 - accuracy: 0.8270\n",
            "Epoch 19/100\n",
            "250/250 [==============================] - 0s 1ms/step - loss: 0.3862 - accuracy: 0.8299\n",
            "Epoch 20/100\n",
            "250/250 [==============================] - 0s 1ms/step - loss: 0.3820 - accuracy: 0.8336\n",
            "Epoch 21/100\n",
            "250/250 [==============================] - 0s 1ms/step - loss: 0.3787 - accuracy: 0.8371\n",
            "Epoch 22/100\n",
            "250/250 [==============================] - 0s 1ms/step - loss: 0.3762 - accuracy: 0.8389\n",
            "Epoch 23/100\n",
            "250/250 [==============================] - 0s 1ms/step - loss: 0.3737 - accuracy: 0.8415\n",
            "Epoch 24/100\n",
            "250/250 [==============================] - 0s 1ms/step - loss: 0.3715 - accuracy: 0.8425\n",
            "Epoch 25/100\n",
            "250/250 [==============================] - 0s 1ms/step - loss: 0.3695 - accuracy: 0.8447\n",
            "Epoch 26/100\n",
            "250/250 [==============================] - 0s 1ms/step - loss: 0.3680 - accuracy: 0.8490\n",
            "Epoch 27/100\n",
            "250/250 [==============================] - 0s 1ms/step - loss: 0.3660 - accuracy: 0.8481\n",
            "Epoch 28/100\n",
            "250/250 [==============================] - 0s 1ms/step - loss: 0.3643 - accuracy: 0.8509\n",
            "Epoch 29/100\n",
            "250/250 [==============================] - 0s 1ms/step - loss: 0.3625 - accuracy: 0.8526\n",
            "Epoch 30/100\n",
            "250/250 [==============================] - 0s 960us/step - loss: 0.3609 - accuracy: 0.8511\n",
            "Epoch 31/100\n",
            "250/250 [==============================] - 0s 1ms/step - loss: 0.3592 - accuracy: 0.8530\n",
            "Epoch 32/100\n",
            "250/250 [==============================] - 0s 1ms/step - loss: 0.3578 - accuracy: 0.8537\n",
            "Epoch 33/100\n",
            "250/250 [==============================] - 0s 1ms/step - loss: 0.3565 - accuracy: 0.8534\n",
            "Epoch 34/100\n",
            "250/250 [==============================] - 0s 1ms/step - loss: 0.3553 - accuracy: 0.8555\n",
            "Epoch 35/100\n",
            "250/250 [==============================] - 0s 1ms/step - loss: 0.3544 - accuracy: 0.8551\n",
            "Epoch 36/100\n",
            "250/250 [==============================] - 0s 997us/step - loss: 0.3534 - accuracy: 0.8562\n",
            "Epoch 37/100\n",
            "250/250 [==============================] - 0s 979us/step - loss: 0.3525 - accuracy: 0.8566\n",
            "Epoch 38/100\n",
            "250/250 [==============================] - 0s 1ms/step - loss: 0.3513 - accuracy: 0.8569\n",
            "Epoch 39/100\n",
            "250/250 [==============================] - 0s 1ms/step - loss: 0.3509 - accuracy: 0.8576\n",
            "Epoch 40/100\n",
            "250/250 [==============================] - 0s 1ms/step - loss: 0.3503 - accuracy: 0.8574\n",
            "Epoch 41/100\n",
            "250/250 [==============================] - 0s 1ms/step - loss: 0.3496 - accuracy: 0.8600\n",
            "Epoch 42/100\n",
            "250/250 [==============================] - 0s 1ms/step - loss: 0.3491 - accuracy: 0.8587\n",
            "Epoch 43/100\n",
            "250/250 [==============================] - 0s 1ms/step - loss: 0.3484 - accuracy: 0.8595\n",
            "Epoch 44/100\n",
            "250/250 [==============================] - 0s 1ms/step - loss: 0.3479 - accuracy: 0.8590\n",
            "Epoch 45/100\n",
            "250/250 [==============================] - 0s 1ms/step - loss: 0.3479 - accuracy: 0.8587\n",
            "Epoch 46/100\n",
            "250/250 [==============================] - 0s 1ms/step - loss: 0.3468 - accuracy: 0.8572\n",
            "Epoch 47/100\n",
            "250/250 [==============================] - 0s 963us/step - loss: 0.3469 - accuracy: 0.8604\n",
            "Epoch 48/100\n",
            "250/250 [==============================] - 0s 1ms/step - loss: 0.3462 - accuracy: 0.8590\n",
            "Epoch 49/100\n",
            "250/250 [==============================] - 0s 993us/step - loss: 0.3460 - accuracy: 0.8577\n",
            "Epoch 50/100\n",
            "250/250 [==============================] - 0s 1ms/step - loss: 0.3453 - accuracy: 0.8594\n",
            "Epoch 51/100\n",
            "250/250 [==============================] - 0s 1ms/step - loss: 0.3452 - accuracy: 0.8594\n",
            "Epoch 52/100\n",
            "250/250 [==============================] - 0s 1ms/step - loss: 0.3447 - accuracy: 0.8593\n",
            "Epoch 53/100\n",
            "250/250 [==============================] - 0s 1ms/step - loss: 0.3442 - accuracy: 0.8585\n",
            "Epoch 54/100\n",
            "250/250 [==============================] - 0s 1ms/step - loss: 0.3438 - accuracy: 0.8590\n",
            "Epoch 55/100\n",
            "250/250 [==============================] - 0s 1ms/step - loss: 0.3446 - accuracy: 0.8589\n",
            "Epoch 56/100\n",
            "250/250 [==============================] - 0s 991us/step - loss: 0.3440 - accuracy: 0.8602\n",
            "Epoch 57/100\n",
            "250/250 [==============================] - 0s 1ms/step - loss: 0.3438 - accuracy: 0.8600\n",
            "Epoch 58/100\n",
            "250/250 [==============================] - 0s 1ms/step - loss: 0.3433 - accuracy: 0.8601\n",
            "Epoch 59/100\n",
            "250/250 [==============================] - 0s 1ms/step - loss: 0.3431 - accuracy: 0.8591\n",
            "Epoch 60/100\n",
            "250/250 [==============================] - 0s 1ms/step - loss: 0.3433 - accuracy: 0.8604\n",
            "Epoch 61/100\n",
            "250/250 [==============================] - 0s 1ms/step - loss: 0.3424 - accuracy: 0.8591\n",
            "Epoch 62/100\n",
            "250/250 [==============================] - 0s 1ms/step - loss: 0.3427 - accuracy: 0.8600\n",
            "Epoch 63/100\n",
            "250/250 [==============================] - 0s 1ms/step - loss: 0.3427 - accuracy: 0.8602\n",
            "Epoch 64/100\n",
            "250/250 [==============================] - 0s 1ms/step - loss: 0.3422 - accuracy: 0.8590\n",
            "Epoch 65/100\n",
            "250/250 [==============================] - 0s 1ms/step - loss: 0.3424 - accuracy: 0.8594\n",
            "Epoch 66/100\n",
            "250/250 [==============================] - 0s 986us/step - loss: 0.3421 - accuracy: 0.8575\n",
            "Epoch 67/100\n",
            "250/250 [==============================] - 0s 1ms/step - loss: 0.3424 - accuracy: 0.8600\n",
            "Epoch 68/100\n",
            "250/250 [==============================] - 0s 1ms/step - loss: 0.3412 - accuracy: 0.8585\n",
            "Epoch 69/100\n",
            "250/250 [==============================] - 0s 1ms/step - loss: 0.3417 - accuracy: 0.8583\n",
            "Epoch 70/100\n",
            "250/250 [==============================] - 0s 1ms/step - loss: 0.3414 - accuracy: 0.8600\n",
            "Epoch 71/100\n",
            "250/250 [==============================] - 0s 966us/step - loss: 0.3411 - accuracy: 0.8583\n",
            "Epoch 72/100\n",
            "250/250 [==============================] - 0s 1ms/step - loss: 0.3413 - accuracy: 0.8593\n",
            "Epoch 73/100\n",
            "250/250 [==============================] - 0s 1ms/step - loss: 0.3418 - accuracy: 0.8585\n",
            "Epoch 74/100\n",
            "250/250 [==============================] - 0s 1ms/step - loss: 0.3406 - accuracy: 0.8608\n",
            "Epoch 75/100\n",
            "250/250 [==============================] - 0s 981us/step - loss: 0.3410 - accuracy: 0.8597\n",
            "Epoch 76/100\n",
            "250/250 [==============================] - 0s 1ms/step - loss: 0.3407 - accuracy: 0.8577\n",
            "Epoch 77/100\n",
            "250/250 [==============================] - 0s 1ms/step - loss: 0.3405 - accuracy: 0.8587\n",
            "Epoch 78/100\n",
            "250/250 [==============================] - 0s 1ms/step - loss: 0.3403 - accuracy: 0.8595\n",
            "Epoch 79/100\n",
            "250/250 [==============================] - 0s 1ms/step - loss: 0.3404 - accuracy: 0.8585\n",
            "Epoch 80/100\n",
            "250/250 [==============================] - 0s 1ms/step - loss: 0.3403 - accuracy: 0.8587\n",
            "Epoch 81/100\n",
            "250/250 [==============================] - 0s 1ms/step - loss: 0.3402 - accuracy: 0.8602\n",
            "Epoch 82/100\n",
            "250/250 [==============================] - 0s 1ms/step - loss: 0.3399 - accuracy: 0.8596\n",
            "Epoch 83/100\n",
            "250/250 [==============================] - 0s 1ms/step - loss: 0.3398 - accuracy: 0.8593\n",
            "Epoch 84/100\n",
            "250/250 [==============================] - 0s 1ms/step - loss: 0.3401 - accuracy: 0.8590\n",
            "Epoch 85/100\n",
            "250/250 [==============================] - 0s 1ms/step - loss: 0.3402 - accuracy: 0.8591\n",
            "Epoch 86/100\n",
            "250/250 [==============================] - 0s 1ms/step - loss: 0.3398 - accuracy: 0.8606\n",
            "Epoch 87/100\n",
            "250/250 [==============================] - 0s 1ms/step - loss: 0.3399 - accuracy: 0.8593\n",
            "Epoch 88/100\n",
            "250/250 [==============================] - 0s 1ms/step - loss: 0.3396 - accuracy: 0.8596\n",
            "Epoch 89/100\n",
            "250/250 [==============================] - 0s 1ms/step - loss: 0.3399 - accuracy: 0.8596\n",
            "Epoch 90/100\n",
            "250/250 [==============================] - 0s 984us/step - loss: 0.3397 - accuracy: 0.8601\n",
            "Epoch 91/100\n",
            "250/250 [==============================] - 0s 1ms/step - loss: 0.3389 - accuracy: 0.8610\n",
            "Epoch 92/100\n",
            "250/250 [==============================] - 0s 1ms/step - loss: 0.3391 - accuracy: 0.8604\n",
            "Epoch 93/100\n",
            "250/250 [==============================] - 0s 1ms/step - loss: 0.3393 - accuracy: 0.8587\n",
            "Epoch 94/100\n",
            "250/250 [==============================] - 0s 1ms/step - loss: 0.3390 - accuracy: 0.8609\n",
            "Epoch 95/100\n",
            "250/250 [==============================] - 0s 1ms/step - loss: 0.3387 - accuracy: 0.8586\n",
            "Epoch 96/100\n",
            "250/250 [==============================] - 0s 1ms/step - loss: 0.3395 - accuracy: 0.8597\n",
            "Epoch 97/100\n",
            "250/250 [==============================] - 0s 1ms/step - loss: 0.3394 - accuracy: 0.8605\n",
            "Epoch 98/100\n",
            "250/250 [==============================] - 0s 1ms/step - loss: 0.3391 - accuracy: 0.8602\n",
            "Epoch 99/100\n",
            "250/250 [==============================] - 0s 993us/step - loss: 0.3388 - accuracy: 0.8606\n",
            "Epoch 100/100\n",
            "250/250 [==============================] - 0s 1ms/step - loss: 0.3388 - accuracy: 0.8611\n"
          ],
          "name": "stdout"
        },
        {
          "output_type": "execute_result",
          "data": {
            "text/plain": [
              "<tensorflow.python.keras.callbacks.History at 0x7f3bb2af4f28>"
            ]
          },
          "metadata": {
            "tags": []
          },
          "execution_count": 21
        }
      ]
    },
    {
      "cell_type": "markdown",
      "metadata": {
        "id": "tJj5k2MxZga3",
        "colab_type": "text"
      },
      "source": [
        "## Bagian 4 - Membuat Prediksi dan mengevaluasi model"
      ]
    },
    {
      "cell_type": "markdown",
      "metadata": {
        "id": "84QFoqGYeXHL",
        "colab_type": "text"
      },
      "source": [
        "### Memprediksi Hasil dari observasi tunggal"
      ]
    },
    {
      "cell_type": "markdown",
      "metadata": {
        "id": "CGRo3eacgDdC",
        "colab_type": "text"
      },
      "source": [
        "Menggunakan model ANN ini untuk memprediksi apakah nasabah dengan informasi berikut akan menutup rekening : \n",
        "\n",
        "Provinsi: DKI Jakarta\n",
        "\n",
        "Nilai Kredit: 600\n",
        "\n",
        "Jenis Kelamin: Laki-Laki\n",
        "\n",
        "Umur: 40 years old\n",
        "\n",
        "Tenor: 3 years\n",
        "\n",
        "Saldo: \\$ 60000\n",
        "\n",
        "Jumlah Produk: 2\n",
        "\n",
        "Apakah punya kartu kredit? Yes\n",
        "\n",
        "nasabah aktif: Yes\n",
        "\n",
        "perkiraan pendapatan: \\$ 50000\n",
        "\n",
        "Jadi, haruskah diucapkan selamat tinggal kepada pelanggan tersebut?"
      ]
    },
    {
      "cell_type": "markdown",
      "metadata": {
        "id": "ZhU1LTgPg-kH",
        "colab_type": "text"
      },
      "source": [
        "**Solution**"
      ]
    },
    {
      "cell_type": "code",
      "metadata": {
        "id": "qi6KZBiBSZon",
        "colab_type": "code",
        "colab": {
          "base_uri": "https://localhost:8080/",
          "height": 34
        },
        "outputId": "1812e18b-7a5f-420f-8779-262ec0b04d50"
      },
      "source": [
        "# Sebagaimana digunakan fungsi sigmoid, diperoleh probabilitas nasabah ini tutup rekening :.\n",
        "print(ann.predict(sc.transform([[1, 0, 0, 600, 1, 40, 3, 60000, 2, 1, 1, 50000]])))"
      ],
      "execution_count": 30,
      "outputs": [
        {
          "output_type": "stream",
          "text": [
            "[[0.03832316]]\n"
          ],
          "name": "stdout"
        }
      ]
    },
    {
      "cell_type": "markdown",
      "metadata": {
        "id": "wGjx94g2n7OV",
        "colab_type": "text"
      },
      "source": [
        "Namum, model ANN ini memprediksi nasabah tersebut masih memiliki rekening di bank!\n",
        "\n",
        "**Catatan Penting 1:** Perhatikan bahwa nilai fitur yang diinputkan dalam kurung siku pasangan ganda. karena metoda \"predict\" selalu mengharapkan array 2D array sebagai input. Dan menaruh nilai tersebut dalam kurung siku pasangan ganda membuat input menjadi array 2D.\n",
        "\n",
        "**Catatan Penting 2:** Perhatikan juga bahwa Provinsi \"DKI Jakarta\" tidak sebagai input string pada kolom tetapi sebagai \"1, 0, 0\" dalam 3 kolom pertama. Hal itu dikarenakan metoda prediksi mengharapkan nilai one-hot-encoded sebagai inputan, dan seperti yang terlihat pada baris pertama dari fitur matrik X, \"DKI Jakarta\" dikodekan sebagai \"1, 0, 0\". Dan selalu perhatikan untuk memasukan nilai ini dalam 3 kolom pertama, karena variabel buatan selalu dibuat dalam kolom pertama."
      ]
    },
    {
      "cell_type": "markdown",
      "metadata": {
        "id": "u7yx47jPZt11",
        "colab_type": "text"
      },
      "source": [
        "### Memprediksi data tes"
      ]
    },
    {
      "cell_type": "code",
      "metadata": {
        "id": "gH2886DaWr3G",
        "colab_type": "code",
        "colab": {
          "base_uri": "https://localhost:8080/",
          "height": 136
        },
        "outputId": "bcb9e1d6-388b-48c2-db6c-357ecdef6a98"
      },
      "source": [
        "# Ini merupakan probabilitas dari prediksi\n",
        "y_predicted = ann.predict(X_test)\n",
        "# Konversi probabilitas prediksi menjadi hasil binari\n",
        "y_predicted = (y_predicted > 0.5)\n",
        "print(np.concatenate((y_predicted.reshape(len(y_predicted),1), y_test.reshape(len(y_test),1)),1))"
      ],
      "execution_count": 32,
      "outputs": [
        {
          "output_type": "stream",
          "text": [
            "[[0 0]\n",
            " [0 0]\n",
            " [0 0]\n",
            " ...\n",
            " [0 0]\n",
            " [0 0]\n",
            " [0 0]]\n"
          ],
          "name": "stdout"
        }
      ]
    },
    {
      "cell_type": "markdown",
      "metadata": {
        "id": "o0oyfLWoaEGw",
        "colab_type": "text"
      },
      "source": [
        "### Membuat Confusion Matrix"
      ]
    },
    {
      "cell_type": "code",
      "metadata": {
        "id": "bfi18WdedDwO",
        "colab_type": "code",
        "colab": {
          "base_uri": "https://localhost:8080/",
          "height": 68
        },
        "outputId": "e6adfd1d-f8cd-4eec-be67-31295e648ce4"
      },
      "source": [
        "from sklearn.metrics import confusion_matrix, accuracy_score\n",
        "cm = confusion_matrix(y_test, y_predicted)\n",
        "print(cm)\n",
        "accuracy_score(y_test, y_predicted)"
      ],
      "execution_count": 33,
      "outputs": [
        {
          "output_type": "stream",
          "text": [
            "[[1541   44]\n",
            " [ 230  185]]\n"
          ],
          "name": "stdout"
        },
        {
          "output_type": "execute_result",
          "data": {
            "text/plain": [
              "0.863"
            ]
          },
          "metadata": {
            "tags": []
          },
          "execution_count": 33
        }
      ]
    },
    {
      "cell_type": "markdown",
      "metadata": {
        "id": "B2i0xwBHdGpy",
        "colab_type": "text"
      },
      "source": [
        "Sehingga, Akurasi = 86%\n",
        "\n",
        "Total Prediksi benar bahwa nasabah masih punya rekening = 1541\n",
        "\n",
        "Total Prediksi benar bahwa nasabah tutup rekening = 185\n",
        "\n",
        "Total Prediksi salah bahwa nasabah masih punya rekening = 230\n",
        "\n",
        "Total Prediksi salah bahwa nasabah tutup rekening = 44"
      ]
    }
  ]
}